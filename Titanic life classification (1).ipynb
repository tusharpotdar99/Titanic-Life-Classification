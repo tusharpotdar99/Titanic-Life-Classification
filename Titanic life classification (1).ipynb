{
 "cells": [
  {
   "cell_type": "markdown",
   "id": "c75e405b",
   "metadata": {
    "ExecuteTime": {
     "end_time": "2023-11-03T11:23:35.522984Z",
     "start_time": "2023-11-03T11:23:35.509589Z"
    }
   },
   "source": [
    "<h1 style=\"color: orange;  text-align: center;font-weight: bold; font-family: 'Arial', sans-serif;\">TITANIC LIFE PREDICTION</h1>\n"
   ]
  },
  {
   "cell_type": "markdown",
   "id": "82151501",
   "metadata": {
    "ExecuteTime": {
     "end_time": "2023-11-02T08:06:21.048702Z",
     "start_time": "2023-11-02T08:06:21.037305Z"
    },
    "code_folding": []
   },
   "source": [
    "The Titanic dataset is a well-known dataset in data science and machine learning that contains information about passengers on the RMS Titanic, including whether they survived or not. The dataset typically includes the following columns:\n",
    "\n",
    "\n",
    "PassengerId: A unique identifier for each passenger.\n",
    "\n",
    "Survived: Indicates whether the passenger survived (1) or not (0).\n",
    "\n",
    "Pclass: The passenger's class (1st, 2nd, or 3rd).\n",
    "\n",
    "Name: The passenger's name.\n",
    "\n",
    "Sex: The passenger's gender (male or female).\n",
    "\n",
    "Age: The passenger's age.\n",
    "\n",
    "SibSp: The number of siblings or spouses aboard.\n",
    "\n",
    "Parch: The number of parents or children aboard.\n",
    "\n",
    "Ticket: The ticket number.\n",
    "\n",
    "Fare: The ticket fare.\n",
    "\n",
    "Cabin: The cabin number.\n",
    "\n",
    "Embarked: The port of embarkation (C = Cherbourg, Q = Queenstown, S = Southampton).\n",
    "\n",
    "Here's a brief description of each column:\n",
    "\n",
    "\n",
    "The Titanic dataset is often used for data analysis, data visualization, and machine learning tasks, such as predicting passenger survival based on the available features. You can explore various aspects of the dataset, including survival rates, age distributions, gender differences, and class disparities, to gain insights into the passengers on the Titanic."
   ]
  },
  {
   "cell_type": "markdown",
   "id": "baa6c97f",
   "metadata": {},
   "source": [
    "## Data Preprocessing"
   ]
  },
  {
   "cell_type": "markdown",
   "id": "996d16bb",
   "metadata": {},
   "source": [
    "First Import And Run Necessory Libraries With Dependencies"
   ]
  },
  {
   "cell_type": "code",
   "execution_count": 1,
   "id": "fbf37a7e",
   "metadata": {
    "ExecuteTime": {
     "end_time": "2023-11-20T12:45:53.137698Z",
     "start_time": "2023-11-20T12:45:51.114750Z"
    }
   },
   "outputs": [],
   "source": [
    "import numpy as np\n",
    "import pandas as pd\n",
    "import matplotlib.pyplot as plt\n",
    "import seaborn as sns\n",
    "import warnings\n",
    "warnings.filterwarnings(\"ignore\")"
   ]
  },
  {
   "cell_type": "markdown",
   "id": "afd99f74",
   "metadata": {},
   "source": [
    "Creating DataFrame"
   ]
  },
  {
   "cell_type": "code",
   "execution_count": 2,
   "id": "882451ca",
   "metadata": {
    "ExecuteTime": {
     "end_time": "2023-11-20T12:45:58.483983Z",
     "start_time": "2023-11-20T12:45:58.446691Z"
    }
   },
   "outputs": [
    {
     "data": {
      "text/html": [
       "<div>\n",
       "<style scoped>\n",
       "    .dataframe tbody tr th:only-of-type {\n",
       "        vertical-align: middle;\n",
       "    }\n",
       "\n",
       "    .dataframe tbody tr th {\n",
       "        vertical-align: top;\n",
       "    }\n",
       "\n",
       "    .dataframe thead th {\n",
       "        text-align: right;\n",
       "    }\n",
       "</style>\n",
       "<table border=\"1\" class=\"dataframe\">\n",
       "  <thead>\n",
       "    <tr style=\"text-align: right;\">\n",
       "      <th></th>\n",
       "      <th>Unnamed: 0</th>\n",
       "      <th>PassengerId</th>\n",
       "      <th>Name</th>\n",
       "      <th>Ticket</th>\n",
       "      <th>Cabin</th>\n",
       "      <th>class</th>\n",
       "      <th>deck</th>\n",
       "      <th>sex</th>\n",
       "      <th>age</th>\n",
       "      <th>who</th>\n",
       "      <th>adult_male</th>\n",
       "      <th>fare_y</th>\n",
       "      <th>embark_town</th>\n",
       "      <th>pclass</th>\n",
       "      <th>alone</th>\n",
       "      <th>sibsp</th>\n",
       "      <th>parch</th>\n",
       "      <th>survived</th>\n",
       "    </tr>\n",
       "  </thead>\n",
       "  <tbody>\n",
       "    <tr>\n",
       "      <th>0</th>\n",
       "      <td>0</td>\n",
       "      <td>1</td>\n",
       "      <td>Braund, Mr. Owen Harris</td>\n",
       "      <td>A/5 21171</td>\n",
       "      <td>NaN</td>\n",
       "      <td>Third</td>\n",
       "      <td>NaN</td>\n",
       "      <td>male</td>\n",
       "      <td>22.0</td>\n",
       "      <td>man</td>\n",
       "      <td>True</td>\n",
       "      <td>7.2500</td>\n",
       "      <td>Southampton</td>\n",
       "      <td>3</td>\n",
       "      <td>False</td>\n",
       "      <td>1</td>\n",
       "      <td>0</td>\n",
       "      <td>0</td>\n",
       "    </tr>\n",
       "    <tr>\n",
       "      <th>1</th>\n",
       "      <td>1</td>\n",
       "      <td>2</td>\n",
       "      <td>Cumings, Mrs. John Bradley (Florence Briggs Th...</td>\n",
       "      <td>PC 17599</td>\n",
       "      <td>C85</td>\n",
       "      <td>First</td>\n",
       "      <td>C</td>\n",
       "      <td>female</td>\n",
       "      <td>38.0</td>\n",
       "      <td>woman</td>\n",
       "      <td>False</td>\n",
       "      <td>71.2833</td>\n",
       "      <td>Cherbourg</td>\n",
       "      <td>1</td>\n",
       "      <td>False</td>\n",
       "      <td>1</td>\n",
       "      <td>0</td>\n",
       "      <td>1</td>\n",
       "    </tr>\n",
       "    <tr>\n",
       "      <th>2</th>\n",
       "      <td>2</td>\n",
       "      <td>3</td>\n",
       "      <td>Heikkinen, Miss. Laina</td>\n",
       "      <td>STON/O2. 3101282</td>\n",
       "      <td>NaN</td>\n",
       "      <td>Third</td>\n",
       "      <td>NaN</td>\n",
       "      <td>female</td>\n",
       "      <td>26.0</td>\n",
       "      <td>woman</td>\n",
       "      <td>False</td>\n",
       "      <td>7.9250</td>\n",
       "      <td>Southampton</td>\n",
       "      <td>3</td>\n",
       "      <td>True</td>\n",
       "      <td>0</td>\n",
       "      <td>0</td>\n",
       "      <td>1</td>\n",
       "    </tr>\n",
       "    <tr>\n",
       "      <th>3</th>\n",
       "      <td>3</td>\n",
       "      <td>4</td>\n",
       "      <td>Futrelle, Mrs. Jacques Heath (Lily May Peel)</td>\n",
       "      <td>113803</td>\n",
       "      <td>C123</td>\n",
       "      <td>First</td>\n",
       "      <td>C</td>\n",
       "      <td>female</td>\n",
       "      <td>35.0</td>\n",
       "      <td>woman</td>\n",
       "      <td>False</td>\n",
       "      <td>53.1000</td>\n",
       "      <td>Southampton</td>\n",
       "      <td>1</td>\n",
       "      <td>False</td>\n",
       "      <td>1</td>\n",
       "      <td>0</td>\n",
       "      <td>1</td>\n",
       "    </tr>\n",
       "    <tr>\n",
       "      <th>4</th>\n",
       "      <td>4</td>\n",
       "      <td>5</td>\n",
       "      <td>Allen, Mr. William Henry</td>\n",
       "      <td>373450</td>\n",
       "      <td>NaN</td>\n",
       "      <td>Third</td>\n",
       "      <td>NaN</td>\n",
       "      <td>male</td>\n",
       "      <td>35.0</td>\n",
       "      <td>man</td>\n",
       "      <td>True</td>\n",
       "      <td>8.0500</td>\n",
       "      <td>Southampton</td>\n",
       "      <td>3</td>\n",
       "      <td>True</td>\n",
       "      <td>0</td>\n",
       "      <td>0</td>\n",
       "      <td>0</td>\n",
       "    </tr>\n",
       "  </tbody>\n",
       "</table>\n",
       "</div>"
      ],
      "text/plain": [
       "   Unnamed: 0  PassengerId                                               Name  \\\n",
       "0           0            1                            Braund, Mr. Owen Harris   \n",
       "1           1            2  Cumings, Mrs. John Bradley (Florence Briggs Th...   \n",
       "2           2            3                             Heikkinen, Miss. Laina   \n",
       "3           3            4       Futrelle, Mrs. Jacques Heath (Lily May Peel)   \n",
       "4           4            5                           Allen, Mr. William Henry   \n",
       "\n",
       "             Ticket Cabin  class deck     sex   age    who  adult_male  \\\n",
       "0         A/5 21171   NaN  Third  NaN    male  22.0    man        True   \n",
       "1          PC 17599   C85  First    C  female  38.0  woman       False   \n",
       "2  STON/O2. 3101282   NaN  Third  NaN  female  26.0  woman       False   \n",
       "3            113803  C123  First    C  female  35.0  woman       False   \n",
       "4            373450   NaN  Third  NaN    male  35.0    man        True   \n",
       "\n",
       "    fare_y  embark_town  pclass  alone  sibsp  parch  survived  \n",
       "0   7.2500  Southampton       3  False      1      0         0  \n",
       "1  71.2833    Cherbourg       1  False      1      0         1  \n",
       "2   7.9250  Southampton       3   True      0      0         1  \n",
       "3  53.1000  Southampton       1  False      1      0         1  \n",
       "4   8.0500  Southampton       3   True      0      0         0  "
      ]
     },
     "execution_count": 2,
     "metadata": {},
     "output_type": "execute_result"
    }
   ],
   "source": [
    "df = pd.read_csv(\"titanic_data.csv\") \n",
    "df.head()"
   ]
  },
  {
   "cell_type": "markdown",
   "id": "a55b81dd",
   "metadata": {},
   "source": [
    "Dataset Description datatypes and present and absent values null values "
   ]
  },
  {
   "cell_type": "code",
   "execution_count": 3,
   "id": "aa3aa198",
   "metadata": {
    "ExecuteTime": {
     "end_time": "2023-11-20T12:46:02.530038Z",
     "start_time": "2023-11-20T12:46:02.503510Z"
    }
   },
   "outputs": [
    {
     "name": "stdout",
     "output_type": "stream",
     "text": [
      "<class 'pandas.core.frame.DataFrame'>\n",
      "RangeIndex: 891 entries, 0 to 890\n",
      "Data columns (total 18 columns):\n",
      " #   Column       Non-Null Count  Dtype  \n",
      "---  ------       --------------  -----  \n",
      " 0   Unnamed: 0   891 non-null    int64  \n",
      " 1   PassengerId  891 non-null    int64  \n",
      " 2   Name         891 non-null    object \n",
      " 3   Ticket       891 non-null    object \n",
      " 4   Cabin        204 non-null    object \n",
      " 5   class        891 non-null    object \n",
      " 6   deck         203 non-null    object \n",
      " 7   sex          891 non-null    object \n",
      " 8   age          714 non-null    float64\n",
      " 9   who          891 non-null    object \n",
      " 10  adult_male   891 non-null    bool   \n",
      " 11  fare_y       891 non-null    float64\n",
      " 12  embark_town  889 non-null    object \n",
      " 13  pclass       891 non-null    int64  \n",
      " 14  alone        891 non-null    bool   \n",
      " 15  sibsp        891 non-null    int64  \n",
      " 16  parch        891 non-null    int64  \n",
      " 17  survived     891 non-null    int64  \n",
      "dtypes: bool(2), float64(2), int64(6), object(8)\n",
      "memory usage: 113.2+ KB\n"
     ]
    }
   ],
   "source": [
    "df.info()"
   ]
  },
  {
   "cell_type": "markdown",
   "id": "870ba885",
   "metadata": {},
   "source": [
    "### Data Cleaning"
   ]
  },
  {
   "cell_type": "markdown",
   "id": "cce46a97",
   "metadata": {},
   "source": [
    "Checking for null Values "
   ]
  },
  {
   "cell_type": "code",
   "execution_count": 4,
   "id": "b79a391c",
   "metadata": {
    "ExecuteTime": {
     "end_time": "2023-11-20T12:46:04.380007Z",
     "start_time": "2023-11-20T12:46:04.369900Z"
    }
   },
   "outputs": [
    {
     "name": "stdout",
     "output_type": "stream",
     "text": [
      " (Unnamed: 0, 0), (PassengerId, 0), (Name, 0), (Ticket, 0), (Cabin, 687), (class, 0), (deck, 688), (sex, 0), (age, 177), (who, 0), (adult_male, 0), (fare_y, 0), (embark_town, 2), (pclass, 0), (alone, 0), (sibsp, 0), (parch, 0), (survived, 0),"
     ]
    }
   ],
   "source": [
    "for index, value in zip(df.isnull().sum().index, df.isnull().sum()):\n",
    "    print(f\" ({index}, {value})\",end=\",\")"
   ]
  },
  {
   "cell_type": "markdown",
   "id": "7fc5a77e",
   "metadata": {},
   "source": [
    "Drop Unnecessory Features"
   ]
  },
  {
   "cell_type": "code",
   "execution_count": 5,
   "id": "0100ec00",
   "metadata": {
    "ExecuteTime": {
     "end_time": "2023-11-20T12:46:06.458220Z",
     "start_time": "2023-11-20T12:46:06.448219Z"
    }
   },
   "outputs": [],
   "source": [
    "df.drop(columns=[\"Unnamed: 0\",\"PassengerId\",\"Name\",\"Ticket\",\"Cabin\",\"deck\",\"pclass\"],inplace=True) "
   ]
  },
  {
   "cell_type": "code",
   "execution_count": 6,
   "id": "bf2a2665",
   "metadata": {
    "ExecuteTime": {
     "end_time": "2023-11-20T12:46:09.103529Z",
     "start_time": "2023-11-20T12:46:09.090792Z"
    }
   },
   "outputs": [],
   "source": [
    "df.rename(columns={\"fare_y\":\"fare\"},inplace=True)"
   ]
  },
  {
   "cell_type": "markdown",
   "id": "30d20c99",
   "metadata": {},
   "source": [
    "Imputing Missing values"
   ]
  },
  {
   "cell_type": "code",
   "execution_count": 7,
   "id": "89e5114d",
   "metadata": {
    "ExecuteTime": {
     "end_time": "2023-11-20T12:46:10.210820Z",
     "start_time": "2023-11-20T12:46:10.179532Z"
    }
   },
   "outputs": [
    {
     "name": "stdout",
     "output_type": "stream",
     "text": [
      "Null values of The Passengers Who are men in Age column    :  124\n",
      "Null values of The Passengers Who are Women in Age column  :  53\n",
      "Null values of The Passengers Who are child in Age column  :  0\n",
      "\n",
      "Median of Age of Men    :  30.0\n",
      "Median of Age of Women  :  30.0\n",
      "Median of Age of child  :  5.0\n"
     ]
    }
   ],
   "source": [
    "print(\"Null values of The Passengers Who are men in Age column    : \",df[df[\"who\"] == \"man\"][\"age\"].isnull().sum())\n",
    "print(\"Null values of The Passengers Who are Women in Age column  : \",df[df[\"who\"] == \"woman\"][\"age\"].isnull().sum())\n",
    "print(\"Null values of The Passengers Who are child in Age column  : \",df[df[\"who\"] == \"child\"][\"age\"].isnull().sum())\n",
    "\n",
    "print(\"\\nMedian of Age of Men    : \",df[df[\"who\"] == \"man\"][\"age\"].median())\n",
    "print(\"Median of Age of Women  : \",df[df[\"who\"] == \"woman\"][\"age\"].median())\n",
    "print(\"Median of Age of child  : \",df[df[\"who\"] == \"child\"][\"age\"].median())"
   ]
  },
  {
   "cell_type": "markdown",
   "id": "329bed52",
   "metadata": {
    "ExecuteTime": {
     "end_time": "2023-11-02T08:06:16.641172Z",
     "start_time": "2023-11-02T08:06:16.625527Z"
    },
    "code_folding": []
   },
   "source": [
    "On Above Operations, We have Got That The Passenger who are man and Woman, there are some null values in age columns are present. so we have to fill null values only at the point of age where man and woman are present in corresponding \"who\" column \n",
    "The Median Values of Man and Woman ages are Same for the fill the nulll values "
   ]
  },
  {
   "cell_type": "code",
   "execution_count": 8,
   "id": "a6240a28",
   "metadata": {
    "ExecuteTime": {
     "end_time": "2023-11-20T12:46:11.871242Z",
     "start_time": "2023-11-20T12:46:11.857243Z"
    }
   },
   "outputs": [],
   "source": [
    "df[\"age\"].fillna(30,inplace=True)"
   ]
  },
  {
   "cell_type": "markdown",
   "id": "5ad00868",
   "metadata": {},
   "source": [
    "Most Appearing Value For Which is mode Embarked Taws is Southampton, So we use it for fill null values "
   ]
  },
  {
   "cell_type": "code",
   "execution_count": 9,
   "id": "4a57ed2f",
   "metadata": {
    "ExecuteTime": {
     "end_time": "2023-11-20T12:46:13.021766Z",
     "start_time": "2023-11-20T12:46:13.014281Z"
    }
   },
   "outputs": [],
   "source": [
    "df.embark_town.mode()\n",
    "df[\"embark_town\"].fillna(\"Southampton\",inplace=True)"
   ]
  },
  {
   "cell_type": "code",
   "execution_count": 10,
   "id": "3d0c0229",
   "metadata": {
    "ExecuteTime": {
     "end_time": "2023-11-20T12:46:14.819318Z",
     "start_time": "2023-11-20T12:46:14.801642Z"
    }
   },
   "outputs": [
    {
     "name": "stdout",
     "output_type": "stream",
     "text": [
      " (class : 0), (sex : 0), (age : 0), (who : 0), (adult_male : 0), (fare : 0), (embark_town : 0), (alone : 0), (sibsp : 0), (parch : 0), (survived : 0),"
     ]
    }
   ],
   "source": [
    "for index, value in zip(df.isnull().sum().index, df.isnull().sum()):\n",
    "    print(f\" ({index} : {value})\",end=\",\")"
   ]
  },
  {
   "cell_type": "markdown",
   "id": "c3d7988a",
   "metadata": {},
   "source": [
    "## Exploratory Data Analysis : Data Visualisation "
   ]
  },
  {
   "cell_type": "markdown",
   "id": "1219fbf9",
   "metadata": {},
   "source": [
    "Making Value Counts of Each Feature"
   ]
  },
  {
   "cell_type": "code",
   "execution_count": 11,
   "id": "49420f74",
   "metadata": {
    "ExecuteTime": {
     "end_time": "2023-11-20T12:46:16.168835Z",
     "start_time": "2023-11-20T12:46:16.154717Z"
    }
   },
   "outputs": [],
   "source": [
    "class_cal_count = df[\"class\"].value_counts()\n",
    "sex_val_count = df[\"sex\"].value_counts()\n",
    "adult_male_count  = df[\"adult_male\"].value_counts()\n",
    "embark_town = df[\"embark_town\"].value_counts()\n",
    "who_count = df[\"who\"].value_counts()\n",
    "alone_ornot_count = df[\"alone\"].value_counts()\n",
    "parch_count = df[\"parch\"].value_counts()\n",
    "sibsp_count = df[\"sibsp\"].value_counts()"
   ]
  },
  {
   "cell_type": "code",
   "execution_count": 12,
   "id": "dce859fe",
   "metadata": {
    "ExecuteTime": {
     "end_time": "2023-11-20T12:46:17.740107Z",
     "start_time": "2023-11-20T12:46:17.730439Z"
    }
   },
   "outputs": [
    {
     "name": "stdout",
     "output_type": "stream",
     "text": [
      "embark_town\n",
      "Cherbourg      0.553571\n",
      "Queenstown     0.389610\n",
      "Southampton    0.339009\n",
      "Name: survived, dtype: float64\n"
     ]
    }
   ],
   "source": [
    "import pandas as pd\n",
    "\n",
    "# Assuming 'df' is your DataFrame with 'Embarked' and 'Survived' columns\n",
    "survival_rate_by_embarked = df.groupby('embark_town')['survived'].mean()\n",
    "\n",
    "print(survival_rate_by_embarked)\n"
   ]
  },
  {
   "cell_type": "markdown",
   "id": "906826f3",
   "metadata": {},
   "source": [
    "Plotting All Features Value Count Plots \n",
    "Plotting All Features Value Count With Hue of Survived Labels"
   ]
  },
  {
   "cell_type": "code",
   "execution_count": 13,
   "id": "244f7660",
   "metadata": {
    "ExecuteTime": {
     "end_time": "2023-11-20T12:46:19.549099Z",
     "start_time": "2023-11-20T12:46:19.052853Z"
    }
   },
   "outputs": [
    {
     "data": {
      "image/png": "[encoded data removed]",
      "text/plain": [
       "<Figure size 1200x1000 with 4 Axes>"
      ]
     },
     "metadata": {},
     "output_type": "display_data"
    }
   ],
   "source": [
    "fig, axs = plt.subplots(2, 2, figsize=(12,10))\n",
    "\n",
    "# Set titles for subplots\n",
    "axs[0, 0].set_title('class')\n",
    "axs[0, 1].set_title('sex')\n",
    "axs[1, 0].set_title('alone_or_not')\n",
    "axs[1, 1].set_title('embark_town')\n",
    "\n",
    "\n",
    "\n",
    "\n",
    "# Customize the layout\n",
    "sns.barplot(x=class_cal_count.index,y=class_cal_count.values,ax=axs[0,0], palette= \"deep\")\n",
    "axs[0,0].set_ylabel(\"Number of Values\")\n",
    "sns.barplot(x=sex_val_count.index,y=sex_val_count.values,ax=axs[0,1],palette=\"coolwarm\")\n",
    "axs[0,1].set_ylabel(\"Number of Values\")\n",
    "sns.barplot(x=alone_ornot_count.index,y=alone_ornot_count.values,ax=axs[1,0],palette=\"dark\")\n",
    "axs[1,0].set_ylabel(\"Number of Values\")\n",
    "sns.barplot(x=embark_town.index,y=embark_town.values,ax=axs[1,1],palette=\"cubehelix\")\n",
    "axs[1,1].set_ylabel(\"Number of Values\")\n",
    "\n",
    "\n",
    "\n",
    "fig.show()"
   ]
  },
  {
   "cell_type": "code",
   "execution_count": 87,
   "id": "c7710968",
   "metadata": {
    "ExecuteTime": {
     "end_time": "2023-11-20T12:44:09.687431Z",
     "start_time": "2023-11-20T12:44:08.623131Z"
    }
   },
   "outputs": [
    {
     "data": {
      "image/png": "[encoded data removed]",
      "text/plain": [
       "<Figure size 1200x2000 with 8 Axes>"
      ]
     },
     "metadata": {},
     "output_type": "display_data"
    }
   ],
   "source": [
    "fig, axs = plt.subplots(4, 2, figsize=(12, 20))\n",
    "\n",
    "axs[0, 0].set_title('class')\n",
    "axs[0, 1].set_title('sex')\n",
    "axs[1, 0].set_title('alone_or_not')\n",
    "axs[1, 1].set_title('sibling_spouse')\n",
    "\n",
    "sns.countplot(data=df ,x= \"class\",hue = \"survived\",ax=axs[0,0], palette= \"deep\")\n",
    "axs[0,0].set_ylabel(\"Number of Values\")\n",
    "sns.countplot(data=df ,x= \"sex\",hue = \"survived\",ax=axs[0,1],palette=\"coolwarm\")\n",
    "axs[0,1].set_ylabel(\"Number of Values\")\n",
    "sns.countplot(data=df ,x= \"alone\",hue = \"survived\",ax=axs[1,0],palette=\"dark\")\n",
    "axs[1,0].set_ylabel(\"Number of Values\")\n",
    "sns.countplot(data=df ,x= \"sibsp\",hue = \"survived\",ax=axs[1,1],palette=\"cubehelix\")\n",
    "axs[1,1].set_ylabel(\"Number of Values\")\n",
    "\n",
    "\n",
    "axs[2, 0].set_title('Who')\n",
    "axs[2, 1].set_title('Adult_male_or_not')\n",
    "axs[3, 0].set_title('parch')\n",
    "axs[3, 1].set_title('siblings spouse')\n",
    "\n",
    "sns.countplot(data=df ,x= \"who\",hue = \"survived\",ax=axs[2,0],palette=\"inferno\")\n",
    "axs[2,0].set_ylabel(\"Number of Values\")\n",
    "sns.countplot(data=df ,x= \"adult_male\",hue = \"survived\",ax=axs[2,1],palette=\"Set3\")\n",
    "axs[2,1].set_ylabel(\"Number of Values\")\n",
    "sns.countplot(data=df ,x= \"parch\",hue = \"survived\",ax=axs[3,0],palette=\"pastel\")\n",
    "axs[3,0].set_ylabel(\"Number of Values\")\n",
    "sns.countplot(data=df ,x= \"sibsp\",hue = \"survived\",ax=axs[3,1],palette=\"bright\")\n",
    "axs[3,1].set_ylabel(\"Number of Values\")\n",
    "\n",
    "fig.show()"
   ]
  },
  {
   "cell_type": "markdown",
   "id": "06f40c60",
   "metadata": {},
   "source": [
    "New Feature Adding "
   ]
  },
  {
   "cell_type": "code",
   "execution_count": 14,
   "id": "26dbf765",
   "metadata": {
    "ExecuteTime": {
     "end_time": "2023-11-20T12:46:23.145626Z",
     "start_time": "2023-11-20T12:46:23.139113Z"
    }
   },
   "outputs": [],
   "source": [
    "df[\"family\"] = df[\"parch\"] + df[\"sibsp\"] + 1"
   ]
  },
  {
   "cell_type": "code",
   "execution_count": 16,
   "id": "ed8469fe",
   "metadata": {
    "ExecuteTime": {
     "end_time": "2023-11-20T12:46:29.289906Z",
     "start_time": "2023-11-20T12:46:29.281128Z"
    }
   },
   "outputs": [],
   "source": [
    "bins = [0, 12, 18, 35, 60, 100]\n",
    "labels = ['Child', 'Teenager', 'Young Adult', 'Adult', 'Senior']\n",
    "df['ageGroup'] = pd.cut(df['age'], bins=bins, labels=labels, right=False)"
   ]
  },
  {
   "cell_type": "code",
   "execution_count": 15,
   "id": "1a5c61b0",
   "metadata": {
    "ExecuteTime": {
     "end_time": "2023-11-20T12:46:24.210295Z",
     "start_time": "2023-11-20T12:46:24.194789Z"
    }
   },
   "outputs": [],
   "source": [
    "bins = [0, 10, 20, 30, 40, 50, 100, 200, 300, np.inf]\n",
    "labels = ['0-10', '10-20', '20-30', '30-40', '40-50', '50-100', '100-200', '200-300', '300+']\n",
    "df['FareGroup'] = pd.cut(df['fare'], bins=bins, labels=labels)\n"
   ]
  },
  {
   "cell_type": "code",
   "execution_count": 17,
   "id": "b2406c96",
   "metadata": {
    "ExecuteTime": {
     "end_time": "2023-11-20T12:46:33.019827Z",
     "start_time": "2023-11-20T12:46:33.008023Z"
    }
   },
   "outputs": [],
   "source": [
    "df['FareCategory'] = pd.qcut(df['fare'], q=4, labels=['Low', 'Medium', 'High', 'Very High'])\n"
   ]
  },
  {
   "cell_type": "code",
   "execution_count": 18,
   "id": "2dde68c1",
   "metadata": {
    "ExecuteTime": {
     "end_time": "2023-11-20T12:46:35.384186Z",
     "start_time": "2023-11-20T12:46:35.367678Z"
    }
   },
   "outputs": [
    {
     "name": "stdout",
     "output_type": "stream",
     "text": [
      "<class 'pandas.core.frame.DataFrame'>\n",
      "RangeIndex: 891 entries, 0 to 890\n",
      "Data columns (total 15 columns):\n",
      " #   Column        Non-Null Count  Dtype   \n",
      "---  ------        --------------  -----   \n",
      " 0   class         891 non-null    object  \n",
      " 1   sex           891 non-null    object  \n",
      " 2   age           891 non-null    float64 \n",
      " 3   who           891 non-null    object  \n",
      " 4   adult_male    891 non-null    bool    \n",
      " 5   fare          891 non-null    float64 \n",
      " 6   embark_town   891 non-null    object  \n",
      " 7   alone         891 non-null    bool    \n",
      " 8   sibsp         891 non-null    int64   \n",
      " 9   parch         891 non-null    int64   \n",
      " 10  survived      891 non-null    int64   \n",
      " 11  family        891 non-null    int64   \n",
      " 12  FareGroup     876 non-null    category\n",
      " 13  ageGroup      891 non-null    category\n",
      " 14  FareCategory  891 non-null    category\n",
      "dtypes: bool(2), category(3), float64(2), int64(4), object(4)\n",
      "memory usage: 74.9+ KB\n"
     ]
    }
   ],
   "source": [
    "df.info()"
   ]
  },
  {
   "cell_type": "code",
   "execution_count": 21,
   "id": "3a1f0ed9",
   "metadata": {
    "ExecuteTime": {
     "end_time": "2023-11-20T12:47:25.885559Z",
     "start_time": "2023-11-20T12:47:25.864542Z"
    }
   },
   "outputs": [],
   "source": [
    "df = df.iloc[:,[0,1,2,4,5,6,7,8,9,11,13,14,10]]"
   ]
  },
  {
   "cell_type": "code",
   "execution_count": 22,
   "id": "bd1f8772",
   "metadata": {
    "ExecuteTime": {
     "end_time": "2023-11-20T12:47:26.568303Z",
     "start_time": "2023-11-20T12:47:26.544379Z"
    }
   },
   "outputs": [
    {
     "data": {
      "text/html": [
       "<div>\n",
       "<style scoped>\n",
       "    .dataframe tbody tr th:only-of-type {\n",
       "        vertical-align: middle;\n",
       "    }\n",
       "\n",
       "    .dataframe tbody tr th {\n",
       "        vertical-align: top;\n",
       "    }\n",
       "\n",
       "    .dataframe thead th {\n",
       "        text-align: right;\n",
       "    }\n",
       "</style>\n",
       "<table border=\"1\" class=\"dataframe\">\n",
       "  <thead>\n",
       "    <tr style=\"text-align: right;\">\n",
       "      <th></th>\n",
       "      <th>class</th>\n",
       "      <th>sex</th>\n",
       "      <th>age</th>\n",
       "      <th>adult_male</th>\n",
       "      <th>fare</th>\n",
       "      <th>embark_town</th>\n",
       "      <th>alone</th>\n",
       "      <th>sibsp</th>\n",
       "      <th>parch</th>\n",
       "      <th>family</th>\n",
       "      <th>ageGroup</th>\n",
       "      <th>FareCategory</th>\n",
       "      <th>survived</th>\n",
       "    </tr>\n",
       "  </thead>\n",
       "  <tbody>\n",
       "    <tr>\n",
       "      <th>0</th>\n",
       "      <td>Third</td>\n",
       "      <td>male</td>\n",
       "      <td>22.0</td>\n",
       "      <td>True</td>\n",
       "      <td>7.2500</td>\n",
       "      <td>Southampton</td>\n",
       "      <td>False</td>\n",
       "      <td>1</td>\n",
       "      <td>0</td>\n",
       "      <td>2</td>\n",
       "      <td>Young Adult</td>\n",
       "      <td>Low</td>\n",
       "      <td>0</td>\n",
       "    </tr>\n",
       "    <tr>\n",
       "      <th>1</th>\n",
       "      <td>First</td>\n",
       "      <td>female</td>\n",
       "      <td>38.0</td>\n",
       "      <td>False</td>\n",
       "      <td>71.2833</td>\n",
       "      <td>Cherbourg</td>\n",
       "      <td>False</td>\n",
       "      <td>1</td>\n",
       "      <td>0</td>\n",
       "      <td>2</td>\n",
       "      <td>Adult</td>\n",
       "      <td>Very High</td>\n",
       "      <td>1</td>\n",
       "    </tr>\n",
       "    <tr>\n",
       "      <th>2</th>\n",
       "      <td>Third</td>\n",
       "      <td>female</td>\n",
       "      <td>26.0</td>\n",
       "      <td>False</td>\n",
       "      <td>7.9250</td>\n",
       "      <td>Southampton</td>\n",
       "      <td>True</td>\n",
       "      <td>0</td>\n",
       "      <td>0</td>\n",
       "      <td>1</td>\n",
       "      <td>Young Adult</td>\n",
       "      <td>Medium</td>\n",
       "      <td>1</td>\n",
       "    </tr>\n",
       "    <tr>\n",
       "      <th>3</th>\n",
       "      <td>First</td>\n",
       "      <td>female</td>\n",
       "      <td>35.0</td>\n",
       "      <td>False</td>\n",
       "      <td>53.1000</td>\n",
       "      <td>Southampton</td>\n",
       "      <td>False</td>\n",
       "      <td>1</td>\n",
       "      <td>0</td>\n",
       "      <td>2</td>\n",
       "      <td>Adult</td>\n",
       "      <td>Very High</td>\n",
       "      <td>1</td>\n",
       "    </tr>\n",
       "    <tr>\n",
       "      <th>4</th>\n",
       "      <td>Third</td>\n",
       "      <td>male</td>\n",
       "      <td>35.0</td>\n",
       "      <td>True</td>\n",
       "      <td>8.0500</td>\n",
       "      <td>Southampton</td>\n",
       "      <td>True</td>\n",
       "      <td>0</td>\n",
       "      <td>0</td>\n",
       "      <td>1</td>\n",
       "      <td>Adult</td>\n",
       "      <td>Medium</td>\n",
       "      <td>0</td>\n",
       "    </tr>\n",
       "    <tr>\n",
       "      <th>...</th>\n",
       "      <td>...</td>\n",
       "      <td>...</td>\n",
       "      <td>...</td>\n",
       "      <td>...</td>\n",
       "      <td>...</td>\n",
       "      <td>...</td>\n",
       "      <td>...</td>\n",
       "      <td>...</td>\n",
       "      <td>...</td>\n",
       "      <td>...</td>\n",
       "      <td>...</td>\n",
       "      <td>...</td>\n",
       "      <td>...</td>\n",
       "    </tr>\n",
       "    <tr>\n",
       "      <th>886</th>\n",
       "      <td>Second</td>\n",
       "      <td>male</td>\n",
       "      <td>27.0</td>\n",
       "      <td>True</td>\n",
       "      <td>13.0000</td>\n",
       "      <td>Southampton</td>\n",
       "      <td>True</td>\n",
       "      <td>0</td>\n",
       "      <td>0</td>\n",
       "      <td>1</td>\n",
       "      <td>Young Adult</td>\n",
       "      <td>Medium</td>\n",
       "      <td>0</td>\n",
       "    </tr>\n",
       "    <tr>\n",
       "      <th>887</th>\n",
       "      <td>First</td>\n",
       "      <td>female</td>\n",
       "      <td>19.0</td>\n",
       "      <td>False</td>\n",
       "      <td>30.0000</td>\n",
       "      <td>Southampton</td>\n",
       "      <td>True</td>\n",
       "      <td>0</td>\n",
       "      <td>0</td>\n",
       "      <td>1</td>\n",
       "      <td>Young Adult</td>\n",
       "      <td>High</td>\n",
       "      <td>1</td>\n",
       "    </tr>\n",
       "    <tr>\n",
       "      <th>888</th>\n",
       "      <td>Third</td>\n",
       "      <td>female</td>\n",
       "      <td>30.0</td>\n",
       "      <td>False</td>\n",
       "      <td>23.4500</td>\n",
       "      <td>Southampton</td>\n",
       "      <td>False</td>\n",
       "      <td>1</td>\n",
       "      <td>2</td>\n",
       "      <td>4</td>\n",
       "      <td>Young Adult</td>\n",
       "      <td>High</td>\n",
       "      <td>0</td>\n",
       "    </tr>\n",
       "    <tr>\n",
       "      <th>889</th>\n",
       "      <td>First</td>\n",
       "      <td>male</td>\n",
       "      <td>26.0</td>\n",
       "      <td>True</td>\n",
       "      <td>30.0000</td>\n",
       "      <td>Cherbourg</td>\n",
       "      <td>True</td>\n",
       "      <td>0</td>\n",
       "      <td>0</td>\n",
       "      <td>1</td>\n",
       "      <td>Young Adult</td>\n",
       "      <td>High</td>\n",
       "      <td>1</td>\n",
       "    </tr>\n",
       "    <tr>\n",
       "      <th>890</th>\n",
       "      <td>Third</td>\n",
       "      <td>male</td>\n",
       "      <td>32.0</td>\n",
       "      <td>True</td>\n",
       "      <td>7.7500</td>\n",
       "      <td>Queenstown</td>\n",
       "      <td>True</td>\n",
       "      <td>0</td>\n",
       "      <td>0</td>\n",
       "      <td>1</td>\n",
       "      <td>Young Adult</td>\n",
       "      <td>Low</td>\n",
       "      <td>0</td>\n",
       "    </tr>\n",
       "  </tbody>\n",
       "</table>\n",
       "<p>891 rows × 13 columns</p>\n",
       "</div>"
      ],
      "text/plain": [
       "      class     sex   age  adult_male     fare  embark_town  alone  sibsp  \\\n",
       "0     Third    male  22.0        True   7.2500  Southampton  False      1   \n",
       "1     First  female  38.0       False  71.2833    Cherbourg  False      1   \n",
       "2     Third  female  26.0       False   7.9250  Southampton   True      0   \n",
       "3     First  female  35.0       False  53.1000  Southampton  False      1   \n",
       "4     Third    male  35.0        True   8.0500  Southampton   True      0   \n",
       "..      ...     ...   ...         ...      ...          ...    ...    ...   \n",
       "886  Second    male  27.0        True  13.0000  Southampton   True      0   \n",
       "887   First  female  19.0       False  30.0000  Southampton   True      0   \n",
       "888   Third  female  30.0       False  23.4500  Southampton  False      1   \n",
       "889   First    male  26.0        True  30.0000    Cherbourg   True      0   \n",
       "890   Third    male  32.0        True   7.7500   Queenstown   True      0   \n",
       "\n",
       "     parch  family     ageGroup FareCategory  survived  \n",
       "0        0       2  Young Adult          Low         0  \n",
       "1        0       2        Adult    Very High         1  \n",
       "2        0       1  Young Adult       Medium         1  \n",
       "3        0       2        Adult    Very High         1  \n",
       "4        0       1        Adult       Medium         0  \n",
       "..     ...     ...          ...          ...       ...  \n",
       "886      0       1  Young Adult       Medium         0  \n",
       "887      0       1  Young Adult         High         1  \n",
       "888      2       4  Young Adult         High         0  \n",
       "889      0       1  Young Adult         High         1  \n",
       "890      0       1  Young Adult          Low         0  \n",
       "\n",
       "[891 rows x 13 columns]"
      ]
     },
     "execution_count": 22,
     "metadata": {},
     "output_type": "execute_result"
    }
   ],
   "source": [
    "df"
   ]
  },
  {
   "cell_type": "markdown",
   "id": "325f2acd",
   "metadata": {},
   "source": [
    "## Feature Engineering : Feature transformation"
   ]
  },
  {
   "cell_type": "code",
   "execution_count": 26,
   "id": "0de9605e",
   "metadata": {
    "ExecuteTime": {
     "end_time": "2023-11-20T14:01:44.555639Z",
     "start_time": "2023-11-20T14:01:44.536176Z"
    }
   },
   "outputs": [],
   "source": [
    "embark_town_list = [\"Southampton\",\"Queenstown\",\"Cherbourg\"]\n",
    "class_list = [\"Third\",\"Second\",\"First\"]\n",
    "sex_list = [\"male\",\"female\"]\n",
    "age_group_list = [\"Senior\",\"Young Adult\",\"Adult\",\"Teenager\",\"Child\"]\n",
    "fare_cat_list = [\"Low\",\"Medium\",\"High\",\"Very_High\"]"
   ]
  },
  {
   "cell_type": "code",
   "execution_count": 49,
   "id": "6fc48128",
   "metadata": {
    "ExecuteTime": {
     "end_time": "2023-11-20T12:31:10.479909Z",
     "start_time": "2023-11-20T12:31:10.457654Z"
    }
   },
   "outputs": [
    {
     "data": {
      "text/html": [
       "<div>\n",
       "<style scoped>\n",
       "    .dataframe tbody tr th:only-of-type {\n",
       "        vertical-align: middle;\n",
       "    }\n",
       "\n",
       "    .dataframe tbody tr th {\n",
       "        vertical-align: top;\n",
       "    }\n",
       "\n",
       "    .dataframe thead th {\n",
       "        text-align: right;\n",
       "    }\n",
       "</style>\n",
       "<table border=\"1\" class=\"dataframe\">\n",
       "  <thead>\n",
       "    <tr style=\"text-align: right;\">\n",
       "      <th></th>\n",
       "      <th>age</th>\n",
       "      <th>adult_male</th>\n",
       "      <th>fare</th>\n",
       "      <th>alone</th>\n",
       "      <th>sibsp</th>\n",
       "      <th>parch</th>\n",
       "      <th>family</th>\n",
       "      <th>survived</th>\n",
       "    </tr>\n",
       "  </thead>\n",
       "  <tbody>\n",
       "    <tr>\n",
       "      <th>age</th>\n",
       "      <td>1.000000</td>\n",
       "      <td>0.254145</td>\n",
       "      <td>0.090632</td>\n",
       "      <td>0.181165</td>\n",
       "      <td>-0.232440</td>\n",
       "      <td>-0.180330</td>\n",
       "      <td>-0.248954</td>\n",
       "      <td>-0.070657</td>\n",
       "    </tr>\n",
       "    <tr>\n",
       "      <th>adult_male</th>\n",
       "      <td>0.254145</td>\n",
       "      <td>1.000000</td>\n",
       "      <td>-0.182024</td>\n",
       "      <td>0.404744</td>\n",
       "      <td>-0.253586</td>\n",
       "      <td>-0.349943</td>\n",
       "      <td>-0.348143</td>\n",
       "      <td>-0.557080</td>\n",
       "    </tr>\n",
       "    <tr>\n",
       "      <th>fare</th>\n",
       "      <td>0.090632</td>\n",
       "      <td>-0.182024</td>\n",
       "      <td>1.000000</td>\n",
       "      <td>-0.271832</td>\n",
       "      <td>0.159651</td>\n",
       "      <td>0.216225</td>\n",
       "      <td>0.217138</td>\n",
       "      <td>0.257307</td>\n",
       "    </tr>\n",
       "    <tr>\n",
       "      <th>alone</th>\n",
       "      <td>0.181165</td>\n",
       "      <td>0.404744</td>\n",
       "      <td>-0.271832</td>\n",
       "      <td>1.000000</td>\n",
       "      <td>-0.584471</td>\n",
       "      <td>-0.583398</td>\n",
       "      <td>-0.690922</td>\n",
       "      <td>-0.203367</td>\n",
       "    </tr>\n",
       "    <tr>\n",
       "      <th>sibsp</th>\n",
       "      <td>-0.232440</td>\n",
       "      <td>-0.253586</td>\n",
       "      <td>0.159651</td>\n",
       "      <td>-0.584471</td>\n",
       "      <td>1.000000</td>\n",
       "      <td>0.414838</td>\n",
       "      <td>0.890712</td>\n",
       "      <td>-0.035322</td>\n",
       "    </tr>\n",
       "    <tr>\n",
       "      <th>parch</th>\n",
       "      <td>-0.180330</td>\n",
       "      <td>-0.349943</td>\n",
       "      <td>0.216225</td>\n",
       "      <td>-0.583398</td>\n",
       "      <td>0.414838</td>\n",
       "      <td>1.000000</td>\n",
       "      <td>0.783111</td>\n",
       "      <td>0.081629</td>\n",
       "    </tr>\n",
       "    <tr>\n",
       "      <th>family</th>\n",
       "      <td>-0.248954</td>\n",
       "      <td>-0.348143</td>\n",
       "      <td>0.217138</td>\n",
       "      <td>-0.690922</td>\n",
       "      <td>0.890712</td>\n",
       "      <td>0.783111</td>\n",
       "      <td>1.000000</td>\n",
       "      <td>0.016639</td>\n",
       "    </tr>\n",
       "    <tr>\n",
       "      <th>survived</th>\n",
       "      <td>-0.070657</td>\n",
       "      <td>-0.557080</td>\n",
       "      <td>0.257307</td>\n",
       "      <td>-0.203367</td>\n",
       "      <td>-0.035322</td>\n",
       "      <td>0.081629</td>\n",
       "      <td>0.016639</td>\n",
       "      <td>1.000000</td>\n",
       "    </tr>\n",
       "  </tbody>\n",
       "</table>\n",
       "</div>"
      ],
      "text/plain": [
       "                 age  adult_male      fare     alone     sibsp     parch  \\\n",
       "age         1.000000    0.254145  0.090632  0.181165 -0.232440 -0.180330   \n",
       "adult_male  0.254145    1.000000 -0.182024  0.404744 -0.253586 -0.349943   \n",
       "fare        0.090632   -0.182024  1.000000 -0.271832  0.159651  0.216225   \n",
       "alone       0.181165    0.404744 -0.271832  1.000000 -0.584471 -0.583398   \n",
       "sibsp      -0.232440   -0.253586  0.159651 -0.584471  1.000000  0.414838   \n",
       "parch      -0.180330   -0.349943  0.216225 -0.583398  0.414838  1.000000   \n",
       "family     -0.248954   -0.348143  0.217138 -0.690922  0.890712  0.783111   \n",
       "survived   -0.070657   -0.557080  0.257307 -0.203367 -0.035322  0.081629   \n",
       "\n",
       "              family  survived  \n",
       "age        -0.248954 -0.070657  \n",
       "adult_male -0.348143 -0.557080  \n",
       "fare        0.217138  0.257307  \n",
       "alone      -0.690922 -0.203367  \n",
       "sibsp       0.890712 -0.035322  \n",
       "parch       0.783111  0.081629  \n",
       "family      1.000000  0.016639  \n",
       "survived    0.016639  1.000000  "
      ]
     },
     "execution_count": 49,
     "metadata": {},
     "output_type": "execute_result"
    }
   ],
   "source": [
    "df.corr()"
   ]
  },
  {
   "cell_type": "raw",
   "id": "f33ca027",
   "metadata": {},
   "source": [
    "Making A Chart of Correlation Table with HeatMap"
   ]
  },
  {
   "cell_type": "code",
   "execution_count": 78,
   "id": "9f995abf",
   "metadata": {
    "ExecuteTime": {
     "end_time": "2023-11-07T12:19:09.137600Z",
     "start_time": "2023-11-07T12:19:08.631489Z"
    }
   },
   "outputs": [
    {
     "data": {
      "image/png": "[encoded data removed]",
      "text/plain": [
       "<Figure size 1900x1200 with 2 Axes>"
      ]
     },
     "metadata": {},
     "output_type": "display_data"
    }
   ],
   "source": [
    "plt.figure(figsize=(19,12))\n",
    "sns.heatmap(df.corr(),annot=True,cmap=\"Oranges_r\")\n",
    "plt.show()"
   ]
  },
  {
   "cell_type": "code",
   "execution_count": 79,
   "id": "6a215195",
   "metadata": {
    "ExecuteTime": {
     "end_time": "2023-11-07T12:19:10.198758Z",
     "start_time": "2023-11-07T12:19:09.652938Z"
    }
   },
   "outputs": [
    {
     "data": {
      "image/png": "[encoded data removed]",
      "text/plain": [
       "<Figure size 1200x1000 with 2 Axes>"
      ]
     },
     "metadata": {},
     "output_type": "display_data"
    }
   ],
   "source": [
    "fig, axs = plt.subplots(2, 1, figsize=(12, 10),sharey=\"all\")\n",
    "\n",
    "# Set titles for subplots\n",
    "axs[0].set_title('Age')\n",
    "axs[1].set_title('Fare')\n",
    "\n",
    "\n",
    "# Customize the layout\n",
    "sns.histplot(data=df, x=\"age\",ax=axs[0], color= \"pink\")\n",
    "axs[0].set_xlabel(\"Age\")\n",
    "\n",
    "sns.histplot(data=df, x=\"fare_y\",ax=axs[1], color= \"lightblue\")\n",
    "axs[1].set_xlabel(\"Ticket Fare\")\n",
    "\n",
    "fig.show()"
   ]
  },
  {
   "cell_type": "raw",
   "id": "6697c0bf",
   "metadata": {},
   "source": [
    "Relation with Survived "
   ]
  },
  {
   "cell_type": "code",
   "execution_count": 50,
   "id": "64f75b65",
   "metadata": {
    "ExecuteTime": {
     "end_time": "2023-11-20T12:31:16.658958Z",
     "start_time": "2023-11-20T12:31:16.647839Z"
    }
   },
   "outputs": [
    {
     "data": {
      "text/plain": [
       "survived      1.000000\n",
       "fare          0.257307\n",
       "parch         0.081629\n",
       "family        0.016639\n",
       "sibsp        -0.035322\n",
       "age          -0.070657\n",
       "alone        -0.203367\n",
       "adult_male   -0.557080\n",
       "Name: survived, dtype: float64"
      ]
     },
     "execution_count": 50,
     "metadata": {},
     "output_type": "execute_result"
    }
   ],
   "source": [
    "df.corr()[\"survived\"].sort_values(ascending=False)"
   ]
  },
  {
   "cell_type": "markdown",
   "id": "86f7a799",
   "metadata": {},
   "source": [
    "### Cleaned Dataframe"
   ]
  },
  {
   "cell_type": "code",
   "execution_count": 118,
   "id": "458f5bc7",
   "metadata": {
    "ExecuteTime": {
     "end_time": "2023-11-07T12:32:16.910899Z",
     "start_time": "2023-11-07T12:32:16.898537Z"
    }
   },
   "outputs": [
    {
     "ename": "AttributeError",
     "evalue": "'numpy.ndarray' object has no attribute 'to_csv'",
     "output_type": "error",
     "traceback": [
      "\u001b[1;31m---------------------------------------------------------------------------\u001b[0m",
      "\u001b[1;31mAttributeError\u001b[0m                            Traceback (most recent call last)",
      "\u001b[1;32m~\\AppData\\Local\\Temp\\ipykernel_5388\\14590382.py\u001b[0m in \u001b[0;36m<module>\u001b[1;34m\u001b[0m\n\u001b[1;32m----> 1\u001b[1;33m \u001b[0mdf\u001b[0m\u001b[1;33m.\u001b[0m\u001b[0mto_csv\u001b[0m\u001b[1;33m(\u001b[0m\u001b[1;34m\"titanic_read.csv\"\u001b[0m\u001b[1;33m)\u001b[0m\u001b[1;33m\u001b[0m\u001b[1;33m\u001b[0m\u001b[0m\n\u001b[0m",
      "\u001b[1;31mAttributeError\u001b[0m: 'numpy.ndarray' object has no attribute 'to_csv'"
     ]
    }
   ],
   "source": [
    "df.to_csv(\"titanic_read.csv\")"
   ]
  },
  {
   "cell_type": "code",
   "execution_count": 211,
   "id": "20f36040",
   "metadata": {
    "ExecuteTime": {
     "end_time": "2023-11-07T13:10:15.646395Z",
     "start_time": "2023-11-07T13:10:15.616423Z"
    }
   },
   "outputs": [
    {
     "data": {
      "text/html": [
       "<div>\n",
       "<style scoped>\n",
       "    .dataframe tbody tr th:only-of-type {\n",
       "        vertical-align: middle;\n",
       "    }\n",
       "\n",
       "    .dataframe tbody tr th {\n",
       "        vertical-align: top;\n",
       "    }\n",
       "\n",
       "    .dataframe thead th {\n",
       "        text-align: right;\n",
       "    }\n",
       "</style>\n",
       "<table border=\"1\" class=\"dataframe\">\n",
       "  <thead>\n",
       "    <tr style=\"text-align: right;\">\n",
       "      <th></th>\n",
       "      <th>class</th>\n",
       "      <th>sex</th>\n",
       "      <th>age</th>\n",
       "      <th>who</th>\n",
       "      <th>adult_male</th>\n",
       "      <th>fare_y</th>\n",
       "      <th>embark_town</th>\n",
       "      <th>alone</th>\n",
       "      <th>sibsp</th>\n",
       "      <th>parch</th>\n",
       "      <th>persons_total</th>\n",
       "      <th>survived</th>\n",
       "    </tr>\n",
       "  </thead>\n",
       "  <tbody>\n",
       "    <tr>\n",
       "      <th>0</th>\n",
       "      <td>Third</td>\n",
       "      <td>male</td>\n",
       "      <td>22.0</td>\n",
       "      <td>man</td>\n",
       "      <td>True</td>\n",
       "      <td>7.2500</td>\n",
       "      <td>Southampton</td>\n",
       "      <td>False</td>\n",
       "      <td>1</td>\n",
       "      <td>0</td>\n",
       "      <td>2</td>\n",
       "      <td>0</td>\n",
       "    </tr>\n",
       "    <tr>\n",
       "      <th>1</th>\n",
       "      <td>First</td>\n",
       "      <td>female</td>\n",
       "      <td>38.0</td>\n",
       "      <td>woman</td>\n",
       "      <td>False</td>\n",
       "      <td>71.2833</td>\n",
       "      <td>Cherbourg</td>\n",
       "      <td>False</td>\n",
       "      <td>1</td>\n",
       "      <td>0</td>\n",
       "      <td>2</td>\n",
       "      <td>1</td>\n",
       "    </tr>\n",
       "    <tr>\n",
       "      <th>2</th>\n",
       "      <td>Third</td>\n",
       "      <td>female</td>\n",
       "      <td>26.0</td>\n",
       "      <td>woman</td>\n",
       "      <td>False</td>\n",
       "      <td>7.9250</td>\n",
       "      <td>Southampton</td>\n",
       "      <td>True</td>\n",
       "      <td>0</td>\n",
       "      <td>0</td>\n",
       "      <td>1</td>\n",
       "      <td>1</td>\n",
       "    </tr>\n",
       "    <tr>\n",
       "      <th>3</th>\n",
       "      <td>First</td>\n",
       "      <td>female</td>\n",
       "      <td>35.0</td>\n",
       "      <td>woman</td>\n",
       "      <td>False</td>\n",
       "      <td>53.1000</td>\n",
       "      <td>Southampton</td>\n",
       "      <td>False</td>\n",
       "      <td>1</td>\n",
       "      <td>0</td>\n",
       "      <td>2</td>\n",
       "      <td>1</td>\n",
       "    </tr>\n",
       "    <tr>\n",
       "      <th>4</th>\n",
       "      <td>Third</td>\n",
       "      <td>male</td>\n",
       "      <td>35.0</td>\n",
       "      <td>man</td>\n",
       "      <td>True</td>\n",
       "      <td>8.0500</td>\n",
       "      <td>Southampton</td>\n",
       "      <td>True</td>\n",
       "      <td>0</td>\n",
       "      <td>0</td>\n",
       "      <td>1</td>\n",
       "      <td>0</td>\n",
       "    </tr>\n",
       "    <tr>\n",
       "      <th>...</th>\n",
       "      <td>...</td>\n",
       "      <td>...</td>\n",
       "      <td>...</td>\n",
       "      <td>...</td>\n",
       "      <td>...</td>\n",
       "      <td>...</td>\n",
       "      <td>...</td>\n",
       "      <td>...</td>\n",
       "      <td>...</td>\n",
       "      <td>...</td>\n",
       "      <td>...</td>\n",
       "      <td>...</td>\n",
       "    </tr>\n",
       "    <tr>\n",
       "      <th>886</th>\n",
       "      <td>Second</td>\n",
       "      <td>male</td>\n",
       "      <td>27.0</td>\n",
       "      <td>man</td>\n",
       "      <td>True</td>\n",
       "      <td>13.0000</td>\n",
       "      <td>Southampton</td>\n",
       "      <td>True</td>\n",
       "      <td>0</td>\n",
       "      <td>0</td>\n",
       "      <td>1</td>\n",
       "      <td>0</td>\n",
       "    </tr>\n",
       "    <tr>\n",
       "      <th>887</th>\n",
       "      <td>First</td>\n",
       "      <td>female</td>\n",
       "      <td>19.0</td>\n",
       "      <td>woman</td>\n",
       "      <td>False</td>\n",
       "      <td>30.0000</td>\n",
       "      <td>Southampton</td>\n",
       "      <td>True</td>\n",
       "      <td>0</td>\n",
       "      <td>0</td>\n",
       "      <td>1</td>\n",
       "      <td>1</td>\n",
       "    </tr>\n",
       "    <tr>\n",
       "      <th>888</th>\n",
       "      <td>Third</td>\n",
       "      <td>female</td>\n",
       "      <td>30.0</td>\n",
       "      <td>woman</td>\n",
       "      <td>False</td>\n",
       "      <td>23.4500</td>\n",
       "      <td>Southampton</td>\n",
       "      <td>False</td>\n",
       "      <td>1</td>\n",
       "      <td>2</td>\n",
       "      <td>4</td>\n",
       "      <td>0</td>\n",
       "    </tr>\n",
       "    <tr>\n",
       "      <th>889</th>\n",
       "      <td>First</td>\n",
       "      <td>male</td>\n",
       "      <td>26.0</td>\n",
       "      <td>man</td>\n",
       "      <td>True</td>\n",
       "      <td>30.0000</td>\n",
       "      <td>Cherbourg</td>\n",
       "      <td>True</td>\n",
       "      <td>0</td>\n",
       "      <td>0</td>\n",
       "      <td>1</td>\n",
       "      <td>1</td>\n",
       "    </tr>\n",
       "    <tr>\n",
       "      <th>890</th>\n",
       "      <td>Third</td>\n",
       "      <td>male</td>\n",
       "      <td>32.0</td>\n",
       "      <td>man</td>\n",
       "      <td>True</td>\n",
       "      <td>7.7500</td>\n",
       "      <td>Queenstown</td>\n",
       "      <td>True</td>\n",
       "      <td>0</td>\n",
       "      <td>0</td>\n",
       "      <td>1</td>\n",
       "      <td>0</td>\n",
       "    </tr>\n",
       "  </tbody>\n",
       "</table>\n",
       "<p>891 rows × 12 columns</p>\n",
       "</div>"
      ],
      "text/plain": [
       "      class     sex   age    who  adult_male   fare_y  embark_town  alone  \\\n",
       "0     Third    male  22.0    man        True   7.2500  Southampton  False   \n",
       "1     First  female  38.0  woman       False  71.2833    Cherbourg  False   \n",
       "2     Third  female  26.0  woman       False   7.9250  Southampton   True   \n",
       "3     First  female  35.0  woman       False  53.1000  Southampton  False   \n",
       "4     Third    male  35.0    man        True   8.0500  Southampton   True   \n",
       "..      ...     ...   ...    ...         ...      ...          ...    ...   \n",
       "886  Second    male  27.0    man        True  13.0000  Southampton   True   \n",
       "887   First  female  19.0  woman       False  30.0000  Southampton   True   \n",
       "888   Third  female  30.0  woman       False  23.4500  Southampton  False   \n",
       "889   First    male  26.0    man        True  30.0000    Cherbourg   True   \n",
       "890   Third    male  32.0    man        True   7.7500   Queenstown   True   \n",
       "\n",
       "     sibsp  parch  persons_total  survived  \n",
       "0        1      0              2         0  \n",
       "1        1      0              2         1  \n",
       "2        0      0              1         1  \n",
       "3        1      0              2         1  \n",
       "4        0      0              1         0  \n",
       "..     ...    ...            ...       ...  \n",
       "886      0      0              1         0  \n",
       "887      0      0              1         1  \n",
       "888      1      2              4         0  \n",
       "889      0      0              1         1  \n",
       "890      0      0              1         0  \n",
       "\n",
       "[891 rows x 12 columns]"
      ]
     },
     "execution_count": 211,
     "metadata": {},
     "output_type": "execute_result"
    }
   ],
   "source": [
    "df = pd.read_csv(\"titanic_read.csv\")\n",
    "df.drop(columns=[\"Unnamed: 0\"],inplace=True)\n",
    "df"
   ]
  },
  {
   "cell_type": "markdown",
   "id": "c951d2dc",
   "metadata": {},
   "source": [
    "## Model Selection, Feature Scaling And Spliting The Data"
   ]
  },
  {
   "cell_type": "code",
   "execution_count": 212,
   "id": "0ba10843",
   "metadata": {
    "ExecuteTime": {
     "end_time": "2023-11-07T13:10:17.801563Z",
     "start_time": "2023-11-07T13:10:17.788143Z"
    }
   },
   "outputs": [],
   "source": [
    "from sklearn.model_selection import GridSearchCV\n",
    "from sklearn.preprocessing import StandardScaler, MinMaxScaler\n",
    "from sklearn.metrics import accuracy_score, confusion_matrix, classification_report, r2_score, balanced_accuracy_score\n",
    "from sklearn.model_selection import KFold, cross_val_score\n",
    "from sklearn.model_selection import train_test_split\n",
    "from sklearn.preprocessing import OneHotEncoder\n",
    "from sklearn.compose import ColumnTransformer\n"
   ]
  },
  {
   "cell_type": "raw",
   "id": "b113ffe2",
   "metadata": {},
   "source": [
    "Spliting The Into Features and Labels , and after that into a training and testing data\n",
    "Scaling The Data with Standard and MinMax both Scalers For Performance Checking Purpose "
   ]
  },
  {
   "cell_type": "code",
   "execution_count": 213,
   "id": "601463be",
   "metadata": {
    "ExecuteTime": {
     "end_time": "2023-11-07T13:10:19.259529Z",
     "start_time": "2023-11-07T13:10:19.242582Z"
    }
   },
   "outputs": [],
   "source": [
    "transformers = ColumnTransformer(\n",
    "    transformers=[\n",
    "    (\"category\",OneHotEncoder(sparse=False,handle_unknown=\"ignore\"),[0,1,3,4,6,7]),\n",
    "    (\"scale\",MinMaxScaler(),[2,5,8,9,10])\n",
    "],remainder=\"passthrough\")"
   ]
  },
  {
   "cell_type": "code",
   "execution_count": 19,
   "id": "b8a2e17b",
   "metadata": {
    "ExecuteTime": {
     "end_time": "2023-11-08T07:46:16.338587Z",
     "start_time": "2023-11-08T07:46:16.320626Z"
    }
   },
   "outputs": [
    {
     "ename": "NameError",
     "evalue": "name 'transformers' is not defined",
     "output_type": "error",
     "traceback": [
      "\u001b[1;31m---------------------------------------------------------------------------\u001b[0m",
      "\u001b[1;31mNameError\u001b[0m                                 Traceback (most recent call last)",
      "\u001b[1;32m~\\AppData\\Local\\Temp\\ipykernel_296\\2289402797.py\u001b[0m in \u001b[0;36m<module>\u001b[1;34m\u001b[0m\n\u001b[1;32m----> 1\u001b[1;33m \u001b[0mdf\u001b[0m \u001b[1;33m=\u001b[0m \u001b[0mtransformers\u001b[0m\u001b[1;33m.\u001b[0m\u001b[0mfit_transform\u001b[0m\u001b[1;33m(\u001b[0m\u001b[0mdf\u001b[0m\u001b[1;33m)\u001b[0m\u001b[1;33m[\u001b[0m\u001b[1;36m0\u001b[0m\u001b[1;33m]\u001b[0m\u001b[1;33m\u001b[0m\u001b[1;33m\u001b[0m\u001b[0m\n\u001b[0m",
      "\u001b[1;31mNameError\u001b[0m: name 'transformers' is not defined"
     ]
    }
   ],
   "source": [
    "df = transformers.fit_transform(df)[0]"
   ]
  },
  {
   "cell_type": "code",
   "execution_count": 215,
   "id": "b34673ad",
   "metadata": {
    "ExecuteTime": {
     "end_time": "2023-11-07T13:10:27.867626Z",
     "start_time": "2023-11-07T13:10:27.851645Z"
    }
   },
   "outputs": [
    {
     "name": "stdout",
     "output_type": "stream",
     "text": [
      "X  :  (891, 20)\n",
      "y  :  (891,)\n"
     ]
    }
   ],
   "source": [
    "# Spliting The Into Features and Labels , and after that into a training and testing data\n",
    "# Scaling The Data with Standard and MinMax both Scalers For Performance Checking Purpose \n",
    "X = df[:,:-1]\n",
    "y = df[:,-1]\n",
    "\n",
    "print(\"X  : \", X.shape)\n",
    "print(\"y  : \", y.shape)\n"
   ]
  },
  {
   "cell_type": "code",
   "execution_count": 216,
   "id": "803d4203",
   "metadata": {
    "ExecuteTime": {
     "end_time": "2023-11-07T13:10:31.030663Z",
     "start_time": "2023-11-07T13:10:31.025241Z"
    }
   },
   "outputs": [
    {
     "data": {
      "text/plain": [
       "array([0.        , 0.        , 1.        , 0.        , 1.        ,\n",
       "       0.        , 1.        , 0.        , 0.        , 1.        ,\n",
       "       0.        , 0.        , 1.        , 1.        , 0.        ,\n",
       "       0.27117366, 0.01415106, 0.125     , 0.        , 0.1       ,\n",
       "       0.        ])"
      ]
     },
     "execution_count": 216,
     "metadata": {},
     "output_type": "execute_result"
    }
   ],
   "source": [
    "df[0]"
   ]
  },
  {
   "cell_type": "code",
   "execution_count": 217,
   "id": "c8024eaa",
   "metadata": {
    "ExecuteTime": {
     "end_time": "2023-11-07T13:10:39.598897Z",
     "start_time": "2023-11-07T13:10:39.580495Z"
    }
   },
   "outputs": [],
   "source": [
    "X_train, X_test, y_train, y_test = train_test_split(X, y, test_size=0.2, random_state=42)"
   ]
  },
  {
   "cell_type": "code",
   "execution_count": 218,
   "id": "3063dacc",
   "metadata": {
    "ExecuteTime": {
     "end_time": "2023-11-07T13:10:42.842399Z",
     "start_time": "2023-11-07T13:10:42.834749Z"
    }
   },
   "outputs": [
    {
     "name": "stdout",
     "output_type": "stream",
     "text": [
      "(712, 20)\n",
      "(179, 20)\n",
      "(712,)\n",
      "(179,)\n"
     ]
    }
   ],
   "source": [
    "print(X_train.shape)\n",
    "print(X_test.shape)\n",
    "print(y_train.shape)\n",
    "print(y_test.shape)\n"
   ]
  },
  {
   "cell_type": "markdown",
   "id": "9ada50a7",
   "metadata": {
    "ExecuteTime": {
     "end_time": "2023-11-03T12:31:08.339760Z",
     "start_time": "2023-11-03T12:31:08.324376Z"
    }
   },
   "source": [
    "## Model Training,  Testing And Prediction"
   ]
  },
  {
   "cell_type": "markdown",
   "id": "f2194494",
   "metadata": {},
   "source": [
    "#### Making Class For Performace and Score of Model "
   ]
  },
  {
   "cell_type": "code",
   "execution_count": 219,
   "id": "bdce2fd4",
   "metadata": {
    "ExecuteTime": {
     "end_time": "2023-11-07T13:10:44.998834Z",
     "start_time": "2023-11-07T13:10:44.987943Z"
    }
   },
   "outputs": [],
   "source": [
    "from sklearn.linear_model import LogisticRegression\n",
    "from sklearn.tree import DecisionTreeClassifier\n",
    "from sklearn.ensemble import RandomForestClassifier,GradientBoostingClassifier\n",
    "from sklearn.neighbors import KNeighborsClassifier\n",
    "from sklearn.svm import SVC"
   ]
  },
  {
   "cell_type": "raw",
   "id": "cb66162b",
   "metadata": {},
   "source": [
    "Making The Class Which Shows All Over Performance Of the Model With All Accuracy Cheking Parameters"
   ]
  },
  {
   "cell_type": "code",
   "execution_count": 220,
   "id": "c1fe4512",
   "metadata": {
    "ExecuteTime": {
     "end_time": "2023-11-07T13:10:46.377076Z",
     "start_time": "2023-11-07T13:10:46.362721Z"
    }
   },
   "outputs": [],
   "source": [
    "class Performance:\n",
    "\n",
    "    def __init__(self):\n",
    "        self.Classifier_name = \"\"\n",
    "        self.X_train = None\n",
    "        self.y_train = None\n",
    "        self.X_test = None\n",
    "        self.y_test = None\n",
    "        self.y_pred = None\n",
    "        self.classifier = None\n",
    "\n",
    "    def Scores(self):\n",
    "        print(\"Classifier                       : \", self.Classifier_name)\n",
    "        print(\"-------------------------------------------------------------------------------------\")\n",
    "        print(\"Best Score of The Classifier   : \", self.classifier.best_score_)\n",
    "        print(\"-------------------------------------------------------------------------------------\")\n",
    "        print(\"Best Estimators Values         : \",\n",
    "              self.classifier.best_estimator_)\n",
    "        print(\"-------------------------------------------------------------------------------------\")\n",
    "        print(\"Best Parameters of Classifier  : \",\n",
    "              self.classifier.best_params_)\n",
    "        print(\"-------------------------------------------------------------------------------------\")\n",
    "        print(\"Total Time For Training        : \",\n",
    "              end-start, \"in minute\", (end-start)/60)\n",
    "        print(\"-------------------------------------------------------------------------------------\")\n",
    "        print(\"Classifier          : \", self.classifier.best_estimator_.fit(\n",
    "            self.X_train, self.y_train))\n",
    "        print(\"-------------------------------------------------------------------------------------\")\n",
    "        print(\"Score Of The Classifier          : \",\n",
    "              self.classifier.best_estimator_.score(self.X_train, self.y_train))\n",
    "        print(\"-------------------------------------------------------------------------------------\")\n",
    "        print(\"Classification Report            : \\n\",\n",
    "              classification_report(self.y_test, self.y_pred))\n",
    "        print(\"-------------------------------------------------------------------------------------\")\n",
    "        print(\"Accuracy Score of The Classifier :\",\n",
    "              accuracy_score(self.y_test, self.y_pred))\n",
    "        print(\"-------------------------------------------------------------------------------------\")\n",
    "        print(\"R2 Score of The Classifier       : \",\n",
    "              r2_score(self.y_test, self.y_pred))\n",
    "        print(\"-------------------------------------------------------------------------------------\")\n",
    "        print(\"Confusion Matrix                 : \\n\",\n",
    "              confusion_matrix(self.y_test, self.y_pred))\n",
    "        print(\"-------------------------------------------------------------------------------------\")\n",
    "        df = pd.DataFrame(self.classifier.cv_results_).sort_values(\n",
    "            \"rank_test_score\").head(3)[\"mean_test_score\"]\n",
    "        print(df)\n",
    "        print(\"-------------------------------------------------------------------------------------\")"
   ]
  },
  {
   "cell_type": "markdown",
   "id": "12f58bda",
   "metadata": {},
   "source": [
    "### Logistic Regression"
   ]
  },
  {
   "cell_type": "raw",
   "id": "cf2d818d",
   "metadata": {
    "ExecuteTime": {
     "end_time": "2023-11-03T12:35:31.314103Z",
     "start_time": "2023-11-03T12:35:31.303384Z"
    }
   },
   "source": [
    "Performing The Logistic Regression Classifier Algorithm"
   ]
  },
  {
   "cell_type": "code",
   "execution_count": 221,
   "id": "d2c09b8e",
   "metadata": {
    "ExecuteTime": {
     "end_time": "2023-11-07T13:10:48.095879Z",
     "start_time": "2023-11-07T13:10:48.061128Z"
    }
   },
   "outputs": [],
   "source": [
    "lr_clf = LogisticRegression()\n",
    "lr_clf.fit(X_train,y_train)\n",
    "lr_pred = lr_clf.predict(X_test)"
   ]
  },
  {
   "cell_type": "code",
   "execution_count": 223,
   "id": "b5e40668",
   "metadata": {
    "ExecuteTime": {
     "end_time": "2023-11-07T13:10:54.469512Z",
     "start_time": "2023-11-07T13:10:54.343241Z"
    }
   },
   "outputs": [
    {
     "name": "stdout",
     "output_type": "stream",
     "text": [
      "Scores :  [0.82517483 0.81118881 0.79577465 0.83802817 0.83802817]\n",
      "Mean Score : 0.8216389244558258\n",
      "-------------------------------------------------------------------------------------\n",
      "Classification Report            : \n",
      "               precision    recall  f1-score   support\n",
      "\n",
      "         0.0       0.82      0.88      0.85       105\n",
      "         1.0       0.81      0.73      0.77        74\n",
      "\n",
      "    accuracy                           0.82       179\n",
      "   macro avg       0.81      0.80      0.81       179\n",
      "weighted avg       0.82      0.82      0.81       179\n",
      "\n",
      "-------------------------------------------------------------------------------------\n",
      "Accuracy Score of The Classifier : 0.8156424581005587\n",
      "-------------------------------------------------------------------------------------\n",
      "R2 Score of The Classifier       :  0.23976833976833978\n",
      "-------------------------------------------------------------------------------------\n",
      "Confusion Matrix                 : \n",
      " [[92 13]\n",
      " [20 54]]\n",
      "-------------------------------------------------------------------------------------\n"
     ]
    }
   ],
   "source": [
    "kf = KFold(n_splits=5, shuffle=True, random_state=42)\n",
    "lr_cl = cross_val_score(lr_clf, X_train, y_train, cv=kf, scoring=\"accuracy\")\n",
    "print(\"Scores : \", lr_cl)\n",
    "print(\"Mean Score :\", lr_cl.mean())\n",
    "\n",
    "print(\"-------------------------------------------------------------------------------------\")\n",
    "print(\"Classification Report            : \\n\",classification_report(y_test, lr_pred))\n",
    "print(\"-------------------------------------------------------------------------------------\")\n",
    "print(\"Accuracy Score of The Classifier :\",accuracy_score(y_test, lr_pred))\n",
    "print(\"-------------------------------------------------------------------------------------\")\n",
    "print(\"R2 Score of The Classifier       : \",r2_score(y_test, lr_pred))\n",
    "print(\"-------------------------------------------------------------------------------------\")\n",
    "print(\"Confusion Matrix                 : \\n\",confusion_matrix(y_test,lr_pred))\n",
    "print(\"-------------------------------------------------------------------------------------\")\n"
   ]
  },
  {
   "cell_type": "markdown",
   "id": "b81c4f7c",
   "metadata": {
    "ExecuteTime": {
     "end_time": "2023-11-02T08:12:54.041025Z",
     "start_time": "2023-11-02T08:12:54.031194Z"
    }
   },
   "source": [
    "### Support Vector Classifier"
   ]
  },
  {
   "cell_type": "code",
   "execution_count": 224,
   "id": "5694a3d9",
   "metadata": {
    "ExecuteTime": {
     "end_time": "2023-11-07T13:10:55.150190Z",
     "start_time": "2023-11-07T13:10:55.138968Z"
    }
   },
   "outputs": [],
   "source": [
    "param_grid = {\n",
    "    'C': [5,7,9,10,15],\n",
    "    'kernel': ['linear',\"rbf\",\"poly\"],\n",
    "    'gamma': ['auto'],\n",
    "    'degree': [0.1,0.01,0.5]\n",
    "}\n",
    "\n",
    "svc = SVC() \n",
    "svc_classifier = GridSearchCV(svc, param_grid, cv=5, scoring='accuracy')"
   ]
  },
  {
   "cell_type": "code",
   "execution_count": 228,
   "id": "ee0bfe29",
   "metadata": {
    "ExecuteTime": {
     "end_time": "2023-11-07T13:11:26.897404Z",
     "start_time": "2023-11-07T13:11:22.368468Z"
    }
   },
   "outputs": [
    {
     "name": "stdout",
     "output_type": "stream",
     "text": [
      "GridSearchCV(cv=5, estimator=SVC(),\n",
      "             param_grid={'C': [5, 7, 9, 10, 15], 'degree': [0.1, 0.01, 0.5],\n",
      "                         'gamma': ['auto'],\n",
      "                         'kernel': ['linear', 'rbf', 'poly']},\n",
      "             scoring='accuracy')\n"
     ]
    }
   ],
   "source": [
    "import time\n",
    "start = time.time()\n",
    "print(svc_classifier.fit(X_train,y_train))\n",
    "end   = time.time()\n",
    "\n",
    "y_pred_svc = svc_classifier.predict(X_test)"
   ]
  },
  {
   "cell_type": "code",
   "execution_count": 229,
   "id": "11a4722d",
   "metadata": {
    "ExecuteTime": {
     "end_time": "2023-11-07T13:11:29.563685Z",
     "start_time": "2023-11-07T13:11:29.498441Z"
    }
   },
   "outputs": [
    {
     "name": "stdout",
     "output_type": "stream",
     "text": [
      "Classifier                       :  Support Vector Classifier\n",
      "-------------------------------------------------------------------------------------\n",
      "Best Score of The Classifier   :  0.8244262779474048\n",
      "-------------------------------------------------------------------------------------\n",
      "Best Estimators Values         :  SVC(C=7, degree=0.1, gamma='auto')\n",
      "-------------------------------------------------------------------------------------\n",
      "Best Parameters of Classifier  :  {'C': 7, 'degree': 0.1, 'gamma': 'auto', 'kernel': 'rbf'}\n",
      "-------------------------------------------------------------------------------------\n",
      "Total Time For Training        :  4.507898807525635 in minute 0.07513164679209391\n",
      "-------------------------------------------------------------------------------------\n",
      "Classifier          :  SVC(C=7, degree=0.1, gamma='auto')\n",
      "-------------------------------------------------------------------------------------\n",
      "Score Of The Classifier          :  0.8300561797752809\n",
      "-------------------------------------------------------------------------------------\n",
      "Classification Report            : \n",
      "               precision    recall  f1-score   support\n",
      "\n",
      "         0.0       0.79      0.90      0.84       105\n",
      "         1.0       0.83      0.66      0.74        74\n",
      "\n",
      "    accuracy                           0.80       179\n",
      "   macro avg       0.81      0.78      0.79       179\n",
      "weighted avg       0.81      0.80      0.80       179\n",
      "\n",
      "-------------------------------------------------------------------------------------\n",
      "Accuracy Score of The Classifier : 0.8044692737430168\n",
      "-------------------------------------------------------------------------------------\n",
      "R2 Score of The Classifier       :  0.1936936936936937\n",
      "-------------------------------------------------------------------------------------\n",
      "Confusion Matrix                 : \n",
      " [[95 10]\n",
      " [25 49]]\n",
      "-------------------------------------------------------------------------------------\n",
      "22    0.824426\n",
      "19    0.824426\n",
      "16    0.824426\n",
      "Name: mean_test_score, dtype: float64\n",
      "-------------------------------------------------------------------------------------\n"
     ]
    }
   ],
   "source": [
    "\n",
    "svc_c = Performance()\n",
    "\n",
    "svc_c.Classifier_name = \"Support Vector Classifier\"\n",
    "svc_c.X_train = X_train\n",
    "svc_c.X_test = X_test\n",
    "svc_c.y_train = y_train\n",
    "svc_c.y_test = y_test\n",
    "svc_c.y_pred = y_pred_svc\n",
    "svc_c.classifier = svc_classifier\n",
    "\n",
    "\n",
    "svc_c.Scores()"
   ]
  },
  {
   "cell_type": "markdown",
   "id": "5ebe417f",
   "metadata": {
    "ExecuteTime": {
     "end_time": "2023-11-02T09:56:23.904394Z",
     "start_time": "2023-11-02T09:56:23.897635Z"
    }
   },
   "source": [
    "### Decision Tree Classifier"
   ]
  },
  {
   "cell_type": "code",
   "execution_count": 230,
   "id": "77c37f5e",
   "metadata": {
    "ExecuteTime": {
     "end_time": "2023-11-07T13:11:31.919838Z",
     "start_time": "2023-11-07T13:11:31.902693Z"
    }
   },
   "outputs": [],
   "source": [
    "Dt_model  = DecisionTreeClassifier()"
   ]
  },
  {
   "cell_type": "code",
   "execution_count": 231,
   "id": "9e2d3902",
   "metadata": {
    "ExecuteTime": {
     "end_time": "2023-11-07T13:11:32.629756Z",
     "start_time": "2023-11-07T13:11:32.619182Z"
    }
   },
   "outputs": [],
   "source": [
    "param_grid = {\n",
    "    'criterion': ['gini', 'entropy'],\n",
    "    'max_depth': [5,10,25,50,100],\n",
    "    'min_samples_split': [5,10,15,20,50],\n",
    "    'min_samples_leaf': [5,10,15,20,50],\n",
    "    'max_leaf_nodes' : [5,10,20,50],\n",
    "    'ccp_alpha' : [0.01,0.1],\n",
    "    'min_impurity_decrease' : [0.01,0.05,0.1]\n",
    "\n",
    "}\n",
    "\n",
    "\n",
    "dt_clf = GridSearchCV(Dt_model, param_grid, cv=5, scoring='accuracy', n_jobs=-1)"
   ]
  },
  {
   "cell_type": "code",
   "execution_count": 232,
   "id": "3b07b503",
   "metadata": {
    "ExecuteTime": {
     "end_time": "2023-11-07T13:11:50.755602Z",
     "start_time": "2023-11-07T13:11:33.798778Z"
    }
   },
   "outputs": [],
   "source": [
    "start = time.time()\n",
    "dt_clf.fit(X_train,y_train)\n",
    "end = time.time()"
   ]
  },
  {
   "cell_type": "code",
   "execution_count": 233,
   "id": "ff9d28e0",
   "metadata": {
    "ExecuteTime": {
     "end_time": "2023-11-07T13:12:10.369491Z",
     "start_time": "2023-11-07T13:12:10.357580Z"
    }
   },
   "outputs": [],
   "source": [
    "y_pred_dt = dt_clf.best_estimator_.predict(X_test)"
   ]
  },
  {
   "cell_type": "code",
   "execution_count": 239,
   "id": "a800f817",
   "metadata": {
    "ExecuteTime": {
     "end_time": "2023-11-07T13:19:09.557936Z",
     "start_time": "2023-11-07T13:19:09.532912Z"
    }
   },
   "outputs": [
    {
     "name": "stdout",
     "output_type": "stream",
     "text": [
      "Classifier                       :  Decision Tree Classifier\n",
      "-------------------------------------------------------------------------------------\n",
      "Best Score of The Classifier   :  0.8300305328474341\n",
      "-------------------------------------------------------------------------------------\n",
      "Best Estimators Values         :  DecisionTreeClassifier(ccp_alpha=0.01, criterion='entropy', max_depth=5,\n",
      "                       max_leaf_nodes=5, min_impurity_decrease=0.01,\n",
      "                       min_samples_leaf=5, min_samples_split=5)\n",
      "-------------------------------------------------------------------------------------\n",
      "Best Parameters of Classifier  :  {'ccp_alpha': 0.01, 'criterion': 'entropy', 'max_depth': 5, 'max_leaf_nodes': 5, 'min_impurity_decrease': 0.01, 'min_samples_leaf': 5, 'min_samples_split': 5}\n",
      "-------------------------------------------------------------------------------------\n",
      "Total Time For Training        :  372.07753896713257 in minute 6.201292316118876\n",
      "-------------------------------------------------------------------------------------\n",
      "Classifier          :  DecisionTreeClassifier(ccp_alpha=0.01, criterion='entropy', max_depth=5,\n",
      "                       max_leaf_nodes=5, min_impurity_decrease=0.01,\n",
      "                       min_samples_leaf=5, min_samples_split=5)\n",
      "-------------------------------------------------------------------------------------\n",
      "Score Of The Classifier          :  0.8342696629213483\n",
      "-------------------------------------------------------------------------------------\n",
      "Classification Report            : \n",
      "               precision    recall  f1-score   support\n",
      "\n",
      "         0.0       0.81      0.88      0.84       105\n",
      "         1.0       0.80      0.72      0.76        74\n",
      "\n",
      "    accuracy                           0.81       179\n",
      "   macro avg       0.81      0.80      0.80       179\n",
      "weighted avg       0.81      0.81      0.81       179\n",
      "\n",
      "-------------------------------------------------------------------------------------\n",
      "Accuracy Score of The Classifier : 0.8100558659217877\n",
      "-------------------------------------------------------------------------------------\n",
      "R2 Score of The Classifier       :  0.2167310167310167\n",
      "-------------------------------------------------------------------------------------\n",
      "Confusion Matrix                 : \n",
      " [[92 13]\n",
      " [21 53]]\n",
      "-------------------------------------------------------------------------------------\n",
      "1500    0.830031\n",
      "2032    0.830031\n",
      "2031    0.830031\n",
      "Name: mean_test_score, dtype: float64\n",
      "-------------------------------------------------------------------------------------\n"
     ]
    }
   ],
   "source": [
    "\n",
    "dt_c = Performance()\n",
    "\n",
    "dt_c.Classifier_name = \"Decision Tree Classifier\"\n",
    "dt_c.X_train = X_train\n",
    "dt_c.X_test = X_test\n",
    "dt_c.y_train = y_train\n",
    "dt_c.y_test = y_test\n",
    "dt_c.y_pred = y_pred_dt\n",
    "dt_c.classifier = dt_clf\n",
    "\n",
    "\n",
    "dt_c.Scores()"
   ]
  },
  {
   "cell_type": "markdown",
   "id": "08658676",
   "metadata": {},
   "source": [
    "### Random Forest Classifier"
   ]
  },
  {
   "cell_type": "code",
   "execution_count": 236,
   "id": "e4f455ce",
   "metadata": {
    "ExecuteTime": {
     "end_time": "2023-11-07T13:12:30.949702Z",
     "start_time": "2023-11-07T13:12:30.938849Z"
    }
   },
   "outputs": [],
   "source": [
    "rf_model = RandomForestClassifier()"
   ]
  },
  {
   "cell_type": "code",
   "execution_count": 237,
   "id": "5b922988",
   "metadata": {
    "ExecuteTime": {
     "end_time": "2023-11-07T13:12:31.633265Z",
     "start_time": "2023-11-07T13:12:31.621229Z"
    }
   },
   "outputs": [],
   "source": [
    "param_grid = {\n",
    "    'criterion': [\"gini\",\"entropy\"],\n",
    "    'n_estimators': [10,20,25,30,50],\n",
    "    'max_depth': [5,10,15,20],\n",
    "    'min_samples_split': [5,10,15,20],\n",
    "    'min_samples_leaf': [5,10,15,20],\n",
    "    'max_leaf_nodes' : [10,20,50,100],\n",
    "    'min_impurity_decrease' : [0.01,0.05,0.1]\n",
    "}\n",
    "\n",
    "rf_clf = GridSearchCV(rf_model, param_grid, cv=3, scoring='accuracy', n_jobs=-1)\n",
    "\n"
   ]
  },
  {
   "cell_type": "code",
   "execution_count": 238,
   "id": "a200a853",
   "metadata": {
    "ExecuteTime": {
     "end_time": "2023-11-07T13:18:44.679121Z",
     "start_time": "2023-11-07T13:12:32.584190Z"
    }
   },
   "outputs": [],
   "source": [
    "start = time.time()\n",
    "rf_clf.fit(X_train,y_train)\n",
    "end = time.time()\n"
   ]
  },
  {
   "cell_type": "code",
   "execution_count": 240,
   "id": "67de300d",
   "metadata": {
    "ExecuteTime": {
     "end_time": "2023-11-07T13:19:31.005403Z",
     "start_time": "2023-11-07T13:19:30.983714Z"
    }
   },
   "outputs": [],
   "source": [
    "rfc_pred = rf_clf.best_estimator_.predict(X_test)"
   ]
  },
  {
   "cell_type": "code",
   "execution_count": 241,
   "id": "e55ba5d5",
   "metadata": {
    "ExecuteTime": {
     "end_time": "2023-11-07T13:19:31.889692Z",
     "start_time": "2023-11-07T13:19:31.812033Z"
    },
    "code_folding": []
   },
   "outputs": [
    {
     "name": "stdout",
     "output_type": "stream",
     "text": [
      "Classifier                       :  Random Forest Classifier\n",
      "-------------------------------------------------------------------------------------\n",
      "Best Score of The Classifier   :  0.8356853289839142\n",
      "-------------------------------------------------------------------------------------\n",
      "Best Estimators Values         :  RandomForestClassifier(criterion='entropy', max_depth=5, max_leaf_nodes=10,\n",
      "                       min_impurity_decrease=0.01, min_samples_leaf=5,\n",
      "                       min_samples_split=10, n_estimators=30)\n",
      "-------------------------------------------------------------------------------------\n",
      "Best Parameters of Classifier  :  {'criterion': 'entropy', 'max_depth': 5, 'max_leaf_nodes': 10, 'min_impurity_decrease': 0.01, 'min_samples_leaf': 5, 'min_samples_split': 10, 'n_estimators': 30}\n",
      "-------------------------------------------------------------------------------------\n",
      "Total Time For Training        :  372.07753896713257 in minute 6.201292316118876\n",
      "-------------------------------------------------------------------------------------\n",
      "Classifier          :  RandomForestClassifier(criterion='entropy', max_depth=5, max_leaf_nodes=10,\n",
      "                       min_impurity_decrease=0.01, min_samples_leaf=5,\n",
      "                       min_samples_split=10, n_estimators=30)\n",
      "-------------------------------------------------------------------------------------\n",
      "Score Of The Classifier          :  0.8328651685393258\n",
      "-------------------------------------------------------------------------------------\n",
      "Classification Report            : \n",
      "               precision    recall  f1-score   support\n",
      "\n",
      "         0.0       0.82      0.88      0.85       105\n",
      "         1.0       0.81      0.73      0.77        74\n",
      "\n",
      "    accuracy                           0.82       179\n",
      "   macro avg       0.81      0.80      0.81       179\n",
      "weighted avg       0.82      0.82      0.81       179\n",
      "\n",
      "-------------------------------------------------------------------------------------\n",
      "Accuracy Score of The Classifier : 0.8156424581005587\n",
      "-------------------------------------------------------------------------------------\n",
      "R2 Score of The Classifier       :  0.23976833976833978\n",
      "-------------------------------------------------------------------------------------\n",
      "Confusion Matrix                 : \n",
      " [[92 13]\n",
      " [20 54]]\n",
      "-------------------------------------------------------------------------------------\n",
      "5296    0.835685\n",
      "3848    0.835685\n",
      "5287    0.835679\n",
      "Name: mean_test_score, dtype: float64\n",
      "-------------------------------------------------------------------------------------\n"
     ]
    }
   ],
   "source": [
    "\n",
    "rf_c = Performance()\n",
    "\n",
    "rf_c.Classifier_name = \"Random Forest Classifier\"\n",
    "rf_c.X_train = X_train\n",
    "rf_c.X_test = X_test\n",
    "rf_c.y_train = y_train\n",
    "rf_c.y_test = y_test\n",
    "rf_c.y_pred = rfc_pred\n",
    "rf_c.classifier = rf_clf\n",
    "\n",
    "\n",
    "rf_c.Scores()"
   ]
  },
  {
   "cell_type": "markdown",
   "id": "d3d000ab",
   "metadata": {
    "ExecuteTime": {
     "end_time": "2023-11-02T10:44:02.927801Z",
     "start_time": "2023-11-02T10:44:02.917792Z"
    }
   },
   "source": [
    "### Gradient Boosting Classifier"
   ]
  },
  {
   "cell_type": "code",
   "execution_count": 242,
   "id": "390a9be7",
   "metadata": {
    "ExecuteTime": {
     "end_time": "2023-11-07T13:19:34.169491Z",
     "start_time": "2023-11-07T13:19:34.153671Z"
    }
   },
   "outputs": [],
   "source": [
    "from sklearn.ensemble import GradientBoostingClassifier"
   ]
  },
  {
   "cell_type": "code",
   "execution_count": 243,
   "id": "2c86bc36",
   "metadata": {
    "ExecuteTime": {
     "end_time": "2023-11-07T13:19:34.796018Z",
     "start_time": "2023-11-07T13:19:34.778188Z"
    }
   },
   "outputs": [],
   "source": [
    "model_gbr = GradientBoostingClassifier()"
   ]
  },
  {
   "cell_type": "code",
   "execution_count": 244,
   "id": "b33e0311",
   "metadata": {
    "ExecuteTime": {
     "end_time": "2023-11-07T13:19:35.493752Z",
     "start_time": "2023-11-07T13:19:35.486722Z"
    }
   },
   "outputs": [],
   "source": [
    "param_grid = {\n",
    "    'n_estimators': [10,12,13,15],          \n",
    "    'learning_rate': [0.01, 0.1],       \n",
    "    'max_depth': [3, 5,9, 10],                 \n",
    "    'min_samples_split': [10,12,15],         \n",
    "    'min_samples_leaf': [5,8,10,15],           \n",
    "    'criterion': ['friedman_mse'],\n",
    "    'min_impurity_decrease': [0.0, 0.01],   \n",
    "}"
   ]
  },
  {
   "cell_type": "code",
   "execution_count": 245,
   "id": "7e3f03a5",
   "metadata": {
    "ExecuteTime": {
     "end_time": "2023-11-07T13:19:36.237705Z",
     "start_time": "2023-11-07T13:19:36.231252Z"
    }
   },
   "outputs": [],
   "source": [
    "gbr_clf = GridSearchCV(model_gbr,param_grid, cv=5, n_jobs=-1, scoring='accuracy')"
   ]
  },
  {
   "cell_type": "code",
   "execution_count": 246,
   "id": "7a38d290",
   "metadata": {
    "ExecuteTime": {
     "end_time": "2023-11-07T13:20:10.460330Z",
     "start_time": "2023-11-07T13:19:37.658652Z"
    }
   },
   "outputs": [],
   "source": [
    "start = time.time()\n",
    "gbr_clf.fit(X_train,y_train)\n",
    "end = time.time()"
   ]
  },
  {
   "cell_type": "code",
   "execution_count": 247,
   "id": "14d9a487",
   "metadata": {
    "ExecuteTime": {
     "end_time": "2023-11-07T13:23:25.163623Z",
     "start_time": "2023-11-07T13:23:25.145182Z"
    }
   },
   "outputs": [],
   "source": [
    "gbr_pred = gbr_clf.best_estimator_.predict(X_test)"
   ]
  },
  {
   "cell_type": "code",
   "execution_count": 281,
   "id": "6ef22304",
   "metadata": {
    "ExecuteTime": {
     "end_time": "2023-11-07T14:55:29.275926Z",
     "start_time": "2023-11-07T14:55:29.215449Z"
    },
    "code_folding": []
   },
   "outputs": [
    {
     "name": "stdout",
     "output_type": "stream",
     "text": [
      "Classifier                       :  Gradient Boosting Classifier\n",
      "-------------------------------------------------------------------------------------\n",
      "Best Score of The Classifier   :  0.8356544863587118\n",
      "-------------------------------------------------------------------------------------\n",
      "Best Estimators Values         :  GradientBoostingClassifier(max_depth=5, min_samples_leaf=8,\n",
      "                           min_samples_split=15, n_estimators=15)\n",
      "-------------------------------------------------------------------------------------\n",
      "Best Parameters of Classifier  :  {'criterion': 'friedman_mse', 'learning_rate': 0.1, 'max_depth': 5, 'min_impurity_decrease': 0.0, 'min_samples_leaf': 8, 'min_samples_split': 15, 'n_estimators': 15}\n",
      "-------------------------------------------------------------------------------------\n",
      "Total Time For Training        :  2.615246295928955 in minute 0.043587438265482586\n",
      "-------------------------------------------------------------------------------------\n",
      "Classifier          :  GradientBoostingClassifier(max_depth=5, min_samples_leaf=8,\n",
      "                           min_samples_split=15, n_estimators=15)\n",
      "-------------------------------------------------------------------------------------\n",
      "Score Of The Classifier          :  0.8693820224719101\n",
      "-------------------------------------------------------------------------------------\n",
      "Classification Report            : \n",
      "               precision    recall  f1-score   support\n",
      "\n",
      "         0.0       0.81      0.90      0.85       105\n",
      "         1.0       0.84      0.69      0.76        74\n",
      "\n",
      "    accuracy                           0.82       179\n",
      "   macro avg       0.82      0.80      0.80       179\n",
      "weighted avg       0.82      0.82      0.81       179\n",
      "\n",
      "-------------------------------------------------------------------------------------\n",
      "Accuracy Score of The Classifier : 0.8156424581005587\n",
      "-------------------------------------------------------------------------------------\n",
      "R2 Score of The Classifier       :  0.23976833976833978\n",
      "-------------------------------------------------------------------------------------\n",
      "Confusion Matrix                 : \n",
      " [[95 10]\n",
      " [23 51]]\n",
      "-------------------------------------------------------------------------------------\n",
      "503    0.835654\n",
      "583    0.834256\n",
      "499    0.834246\n",
      "Name: mean_test_score, dtype: float64\n",
      "-------------------------------------------------------------------------------------\n"
     ]
    }
   ],
   "source": [
    "\n",
    "gbr_c = Performance()\n",
    "\n",
    "gbr_c.Classifier_name = \"Gradient Boosting Classifier\"\n",
    "gbr_c.X_train = X_train\n",
    "gbr_c.X_test = X_test\n",
    "gbr_c.y_train = y_train\n",
    "gbr_c.y_test = y_test\n",
    "gbr_c.y_pred = gbr_pred\n",
    "gbr_c.classifier = gbr_clf\n",
    "\n",
    "\n",
    "gbr_c.Scores()"
   ]
  },
  {
   "cell_type": "markdown",
   "id": "c6768df2",
   "metadata": {},
   "source": [
    "### K Neighbors Classifier"
   ]
  },
  {
   "cell_type": "code",
   "execution_count": 249,
   "id": "c2b10d09",
   "metadata": {
    "ExecuteTime": {
     "end_time": "2023-11-07T13:23:28.175149Z",
     "start_time": "2023-11-07T13:23:28.166230Z"
    }
   },
   "outputs": [],
   "source": [
    "from sklearn.neighbors import KNeighborsClassifier\n",
    "knn_c = KNeighborsClassifier()\n",
    "\n",
    "param_grid = {\n",
    "    'n_neighbors': [1,2,5,10,15,20],\n",
    "    'weights': ['uniform', 'distance'],\n",
    "    'metric': ['euclidean', 'manhattan', 'chebyshev'],\n",
    "    'p': [1,2,5,10,15,20],  \n",
    "    'algorithm': ['auto', 'ball_tree', 'kd_tree', 'brute'],\n",
    "    'leaf_size': [1,2,5,10,15,20],  \n",
    "    'n_jobs': [-1] \n",
    "}\n",
    "\n",
    "\n",
    "knn_clf = GridSearchCV(knn_c, param_grid, cv=5, scoring='accuracy', n_jobs=-1)"
   ]
  },
  {
   "cell_type": "code",
   "execution_count": 250,
   "id": "7ea9b8db",
   "metadata": {
    "ExecuteTime": {
     "end_time": "2023-11-07T13:25:34.661900Z",
     "start_time": "2023-11-07T13:23:28.875144Z"
    }
   },
   "outputs": [],
   "source": [
    "start = time.time()\n",
    "knn_clf.fit(X_train, y_train)\n",
    "end = time.time()"
   ]
  },
  {
   "cell_type": "code",
   "execution_count": 251,
   "id": "bd924d47",
   "metadata": {
    "ExecuteTime": {
     "end_time": "2023-11-07T13:26:48.982090Z",
     "start_time": "2023-11-07T13:26:48.948447Z"
    }
   },
   "outputs": [],
   "source": [
    "knn_pred = knn_clf.best_estimator_.predict(X_test)"
   ]
  },
  {
   "cell_type": "code",
   "execution_count": 252,
   "id": "86d87407",
   "metadata": {
    "ExecuteTime": {
     "end_time": "2023-11-07T13:26:49.694017Z",
     "start_time": "2023-11-07T13:26:49.625985Z"
    }
   },
   "outputs": [
    {
     "name": "stdout",
     "output_type": "stream",
     "text": [
      "Classifier                       :  K Neighbors Classifier\n",
      "-------------------------------------------------------------------------------------\n",
      "Best Score of The Classifier   :  0.8286417807544566\n",
      "-------------------------------------------------------------------------------------\n",
      "Best Estimators Values         :  KNeighborsClassifier(leaf_size=1, metric='manhattan', n_jobs=-1, n_neighbors=20,\n",
      "                     p=1)\n",
      "-------------------------------------------------------------------------------------\n",
      "Best Parameters of Classifier  :  {'algorithm': 'auto', 'leaf_size': 1, 'metric': 'manhattan', 'n_jobs': -1, 'n_neighbors': 20, 'p': 1, 'weights': 'uniform'}\n",
      "-------------------------------------------------------------------------------------\n",
      "Total Time For Training        :  125.78092670440674 in minute 2.096348778406779\n",
      "-------------------------------------------------------------------------------------\n",
      "Classifier          :  KNeighborsClassifier(leaf_size=1, metric='manhattan', n_jobs=-1, n_neighbors=20,\n",
      "                     p=1)\n",
      "-------------------------------------------------------------------------------------\n",
      "Score Of The Classifier          :  0.824438202247191\n",
      "-------------------------------------------------------------------------------------\n",
      "Classification Report            : \n",
      "               precision    recall  f1-score   support\n",
      "\n",
      "         0.0       0.79      0.90      0.84       105\n",
      "         1.0       0.83      0.66      0.74        74\n",
      "\n",
      "    accuracy                           0.80       179\n",
      "   macro avg       0.81      0.78      0.79       179\n",
      "weighted avg       0.81      0.80      0.80       179\n",
      "\n",
      "-------------------------------------------------------------------------------------\n",
      "Accuracy Score of The Classifier : 0.8044692737430168\n",
      "-------------------------------------------------------------------------------------\n",
      "R2 Score of The Classifier       :  0.1936936936936937\n",
      "-------------------------------------------------------------------------------------\n",
      "Confusion Matrix                 : \n",
      " [[95 10]\n",
      " [25 49]]\n",
      "-------------------------------------------------------------------------------------\n",
      "1220    0.828642\n",
      "3596    0.828642\n",
      "142     0.828642\n",
      "Name: mean_test_score, dtype: float64\n",
      "-------------------------------------------------------------------------------------\n"
     ]
    }
   ],
   "source": [
    "\n",
    "knn_c = Performance()\n",
    "\n",
    "knn_c.Classifier_name = \"K Neighbors Classifier\"\n",
    "knn_c.X_train = X_train\n",
    "knn_c.X_test = X_test\n",
    "knn_c.y_train = y_train\n",
    "knn_c.y_test = y_test\n",
    "knn_c.y_pred = knn_pred\n",
    "knn_c.classifier = knn_clf\n",
    "\n",
    "\n",
    "knn_c.Scores()"
   ]
  },
  {
   "cell_type": "markdown",
   "id": "3480ecd3",
   "metadata": {},
   "source": [
    "### XGBoost Classifier"
   ]
  },
  {
   "cell_type": "code",
   "execution_count": 253,
   "id": "4e06b992",
   "metadata": {
    "ExecuteTime": {
     "end_time": "2023-11-07T13:26:52.010492Z",
     "start_time": "2023-11-07T13:26:51.922804Z"
    }
   },
   "outputs": [],
   "source": [
    "from xgboost import XGBClassifier"
   ]
  },
  {
   "cell_type": "code",
   "execution_count": 254,
   "id": "f14a1c57",
   "metadata": {
    "ExecuteTime": {
     "end_time": "2023-11-07T13:26:52.583175Z",
     "start_time": "2023-11-07T13:26:52.572040Z"
    }
   },
   "outputs": [],
   "source": [
    "xgb_cl = XGBClassifier()"
   ]
  },
  {
   "cell_type": "code",
   "execution_count": 255,
   "id": "20177605",
   "metadata": {
    "ExecuteTime": {
     "end_time": "2023-11-07T13:26:53.176611Z",
     "start_time": "2023-11-07T13:26:53.162017Z"
    }
   },
   "outputs": [],
   "source": [
    "param_grid = {\n",
    "    'learning_rate': [0.01, 0.1],\n",
    "    'n_estimators': [10,50,100],\n",
    "    'max_depth': [5, 10 , 50, 100],\n",
    "    \"min_child_weight\": [1,5,10],\n",
    "    \"gamma\" : [0,0.1,1.0],           \n",
    "}\n",
    "\n",
    "xgb_clf = GridSearchCV(xgb_cl, param_grid, cv=5)"
   ]
  },
  {
   "cell_type": "code",
   "execution_count": 256,
   "id": "48f340ea",
   "metadata": {
    "ExecuteTime": {
     "end_time": "2023-11-07T13:27:32.381820Z",
     "start_time": "2023-11-07T13:26:53.963536Z"
    }
   },
   "outputs": [],
   "source": [
    "start = time.time()\n",
    "xgb_clf.fit(X_train, y_train)\n",
    "end   = time.time()"
   ]
  },
  {
   "cell_type": "code",
   "execution_count": 257,
   "id": "28b3dffa",
   "metadata": {
    "ExecuteTime": {
     "end_time": "2023-11-07T13:41:49.147979Z",
     "start_time": "2023-11-07T13:41:49.126299Z"
    }
   },
   "outputs": [],
   "source": [
    "xgb_pred = xgb_clf.best_estimator_.predict(X_test)"
   ]
  },
  {
   "cell_type": "code",
   "execution_count": 258,
   "id": "f001066e",
   "metadata": {
    "ExecuteTime": {
     "end_time": "2023-11-07T13:41:49.734878Z",
     "start_time": "2023-11-07T13:41:49.637004Z"
    }
   },
   "outputs": [
    {
     "name": "stdout",
     "output_type": "stream",
     "text": [
      "Classifier                       :   XGBoost Classifier \n",
      "-------------------------------------------------------------------------------------\n",
      "Best Score of The Classifier   :  0.8384713877671623\n",
      "-------------------------------------------------------------------------------------\n",
      "Best Estimators Values         :  XGBClassifier(base_score=None, booster=None, callbacks=None,\n",
      "              colsample_bylevel=None, colsample_bynode=None,\n",
      "              colsample_bytree=None, early_stopping_rounds=None,\n",
      "              enable_categorical=False, eval_metric=None, feature_types=None,\n",
      "              gamma=0, gpu_id=None, grow_policy=None, importance_type=None,\n",
      "              interaction_constraints=None, learning_rate=0.1, max_bin=None,\n",
      "              max_cat_threshold=None, max_cat_to_onehot=None,\n",
      "              max_delta_step=None, max_depth=5, max_leaves=None,\n",
      "              min_child_weight=5, missing=nan, monotone_constraints=None,\n",
      "              n_estimators=100, n_jobs=None, num_parallel_tree=None,\n",
      "              predictor=None, random_state=None, ...)\n",
      "-------------------------------------------------------------------------------------\n",
      "Best Parameters of Classifier  :  {'gamma': 0, 'learning_rate': 0.1, 'max_depth': 5, 'min_child_weight': 5, 'n_estimators': 100}\n",
      "-------------------------------------------------------------------------------------\n",
      "Total Time For Training        :  38.40761613845825 in minute 0.6401269356409709\n",
      "-------------------------------------------------------------------------------------\n",
      "Classifier          :  XGBClassifier(base_score=None, booster=None, callbacks=None,\n",
      "              colsample_bylevel=None, colsample_bynode=None,\n",
      "              colsample_bytree=None, early_stopping_rounds=None,\n",
      "              enable_categorical=False, eval_metric=None, feature_types=None,\n",
      "              gamma=0, gpu_id=None, grow_policy=None, importance_type=None,\n",
      "              interaction_constraints=None, learning_rate=0.1, max_bin=None,\n",
      "              max_cat_threshold=None, max_cat_to_onehot=None,\n",
      "              max_delta_step=None, max_depth=5, max_leaves=None,\n",
      "              min_child_weight=5, missing=nan, monotone_constraints=None,\n",
      "              n_estimators=100, n_jobs=None, num_parallel_tree=None,\n",
      "              predictor=None, random_state=None, ...)\n",
      "-------------------------------------------------------------------------------------\n",
      "Score Of The Classifier          :  0.8904494382022472\n",
      "-------------------------------------------------------------------------------------\n",
      "Classification Report            : \n",
      "               precision    recall  f1-score   support\n",
      "\n",
      "         0.0       0.85      0.89      0.87       105\n",
      "         1.0       0.83      0.77      0.80        74\n",
      "\n",
      "    accuracy                           0.84       179\n",
      "   macro avg       0.84      0.83      0.83       179\n",
      "weighted avg       0.84      0.84      0.84       179\n",
      "\n",
      "-------------------------------------------------------------------------------------\n",
      "Accuracy Score of The Classifier : 0.8379888268156425\n",
      "-------------------------------------------------------------------------------------\n",
      "R2 Score of The Classifier       :  0.3319176319176319\n",
      "-------------------------------------------------------------------------------------\n",
      "Confusion Matrix                 : \n",
      " [[93 12]\n",
      " [17 57]]\n",
      "-------------------------------------------------------------------------------------\n",
      "41     0.838471\n",
      "95     0.834256\n",
      "125    0.834256\n",
      "Name: mean_test_score, dtype: float64\n",
      "-------------------------------------------------------------------------------------\n"
     ]
    }
   ],
   "source": [
    "xgb_clssifier = Performance()\n",
    "xgb_clssifier.X_train = X_train\n",
    "xgb_clssifier.X_test  = X_test\n",
    "xgb_clssifier.y_train = y_train\n",
    "xgb_clssifier.y_test  = y_test\n",
    "xgb_clssifier.y_pred  = xgb_pred\n",
    "xgb_clssifier.classifier = xgb_clf\n",
    "xgb_clssifier.Classifier_name = \" XGBoost Classifier \"\n",
    "\n",
    "xgb_clssifier.Scores()"
   ]
  },
  {
   "cell_type": "code",
   "execution_count": 259,
   "id": "4184d483",
   "metadata": {
    "ExecuteTime": {
     "end_time": "2023-11-07T13:41:50.810137Z",
     "start_time": "2023-11-07T13:41:50.800005Z"
    }
   },
   "outputs": [],
   "source": [
    "from sklearn.ensemble import VotingClassifier\n",
    "\n",
    "param_grid = {\n",
    "    'voting': ['hard', 'soft'],\n",
    "    'weights': [None, [1, 1, 1], [2, 1, 1], [1, 2, 1]],\n",
    "}"
   ]
  },
  {
   "cell_type": "code",
   "execution_count": 260,
   "id": "e25fa090",
   "metadata": {
    "ExecuteTime": {
     "end_time": "2023-11-07T13:41:52.166492Z",
     "start_time": "2023-11-07T13:41:52.152661Z"
    }
   },
   "outputs": [],
   "source": [
    "voting_clf = GridSearchCV(VotingClassifier(estimators=[\n",
    "    ('svm_cl', svc_classifier.best_estimator_),\n",
    "    ('dt_cl', dt_clf.best_estimator_),\n",
    "    ('rf_cl', rf_clf.best_estimator_)\n",
    "]), param_grid, cv=5)"
   ]
  },
  {
   "cell_type": "code",
   "execution_count": 261,
   "id": "1d4955a9",
   "metadata": {
    "ExecuteTime": {
     "end_time": "2023-11-07T13:41:55.330501Z",
     "start_time": "2023-11-07T13:41:52.699014Z"
    }
   },
   "outputs": [],
   "source": [
    "start = time.time()\n",
    "voting_clf.fit(X_train, y_train)\n",
    "end = time.time()"
   ]
  },
  {
   "cell_type": "code",
   "execution_count": 262,
   "id": "f23346c7",
   "metadata": {
    "ExecuteTime": {
     "end_time": "2023-11-07T13:41:56.304611Z",
     "start_time": "2023-11-07T13:41:56.277076Z"
    }
   },
   "outputs": [],
   "source": [
    "voting_pred = voting_clf.best_estimator_.predict(X_test)"
   ]
  },
  {
   "cell_type": "code",
   "execution_count": 263,
   "id": "fef6c501",
   "metadata": {
    "ExecuteTime": {
     "end_time": "2023-11-07T13:41:57.404821Z",
     "start_time": "2023-11-07T13:41:57.260429Z"
    }
   },
   "outputs": [
    {
     "name": "stdout",
     "output_type": "stream",
     "text": [
      "Classifier                       :  Voting Classifier\n",
      "-------------------------------------------------------------------------------------\n",
      "Best Score of The Classifier   :  0.832837584950261\n",
      "-------------------------------------------------------------------------------------\n",
      "Best Estimators Values         :  VotingClassifier(estimators=[('svm_cl', SVC(C=7, degree=0.1, gamma='auto')),\n",
      "                             ('dt_cl',\n",
      "                              DecisionTreeClassifier(ccp_alpha=0.01,\n",
      "                                                     criterion='entropy',\n",
      "                                                     max_depth=5,\n",
      "                                                     max_leaf_nodes=5,\n",
      "                                                     min_impurity_decrease=0.01,\n",
      "                                                     min_samples_leaf=5,\n",
      "                                                     min_samples_split=5)),\n",
      "                             ('rf_cl',\n",
      "                              RandomForestClassifier(criterion='entropy',\n",
      "                                                     max_depth=5,\n",
      "                                                     max_leaf_nodes=10,\n",
      "                                                     min_impurity_decrease=0.01,\n",
      "                                                     min_samples_leaf=5,\n",
      "                                                     min_samples_split=10,\n",
      "                                                     n_estimators=30))])\n",
      "-------------------------------------------------------------------------------------\n",
      "Best Parameters of Classifier  :  {'voting': 'hard', 'weights': None}\n",
      "-------------------------------------------------------------------------------------\n",
      "Total Time For Training        :  2.615246295928955 in minute 0.043587438265482586\n",
      "-------------------------------------------------------------------------------------\n",
      "Classifier          :  VotingClassifier(estimators=[('svm_cl', SVC(C=7, degree=0.1, gamma='auto')),\n",
      "                             ('dt_cl',\n",
      "                              DecisionTreeClassifier(ccp_alpha=0.01,\n",
      "                                                     criterion='entropy',\n",
      "                                                     max_depth=5,\n",
      "                                                     max_leaf_nodes=5,\n",
      "                                                     min_impurity_decrease=0.01,\n",
      "                                                     min_samples_leaf=5,\n",
      "                                                     min_samples_split=5)),\n",
      "                             ('rf_cl',\n",
      "                              RandomForestClassifier(criterion='entropy',\n",
      "                                                     max_depth=5,\n",
      "                                                     max_leaf_nodes=10,\n",
      "                                                     min_impurity_decrease=0.01,\n",
      "                                                     min_samples_leaf=5,\n",
      "                                                     min_samples_split=10,\n",
      "                                                     n_estimators=30))])\n",
      "-------------------------------------------------------------------------------------\n",
      "Score Of The Classifier          :  0.8384831460674157\n",
      "-------------------------------------------------------------------------------------\n",
      "Classification Report            : \n",
      "               precision    recall  f1-score   support\n",
      "\n",
      "         0.0       0.82      0.88      0.85       105\n",
      "         1.0       0.81      0.73      0.77        74\n",
      "\n",
      "    accuracy                           0.82       179\n",
      "   macro avg       0.81      0.80      0.81       179\n",
      "weighted avg       0.82      0.82      0.81       179\n",
      "\n",
      "-------------------------------------------------------------------------------------\n",
      "Accuracy Score of The Classifier : 0.8156424581005587\n",
      "-------------------------------------------------------------------------------------\n",
      "R2 Score of The Classifier       :  0.23976833976833978\n",
      "-------------------------------------------------------------------------------------\n",
      "Confusion Matrix                 : \n",
      " [[92 13]\n",
      " [20 54]]\n",
      "-------------------------------------------------------------------------------------\n",
      "0    0.832838\n",
      "1    0.828612\n",
      "3    0.827194\n",
      "Name: mean_test_score, dtype: float64\n",
      "-------------------------------------------------------------------------------------\n"
     ]
    }
   ],
   "source": [
    "vot_classifier = Performance()\n",
    "vot_classifier.X_train = X_train\n",
    "vot_classifier.X_test  = X_test\n",
    "vot_classifier.y_train = y_train\n",
    "vot_classifier.y_test  = y_test\n",
    "vot_classifier.Classifier_name = \"Voting Classifier\"\n",
    "vot_classifier.classifier = voting_clf\n",
    "vot_classifier.y_pred  = voting_pred\n",
    "vot_classifier.Scores()"
   ]
  },
  {
   "cell_type": "markdown",
   "id": "fee3b342",
   "metadata": {},
   "source": [
    "## Pipeline "
   ]
  },
  {
   "cell_type": "code",
   "execution_count": 291,
   "id": "23030c17",
   "metadata": {
    "ExecuteTime": {
     "end_time": "2023-11-07T18:32:31.915031Z",
     "start_time": "2023-11-07T18:32:31.896440Z"
    }
   },
   "outputs": [],
   "source": [
    "transformers_1 = XGBClassifier(gamma=0, learning_rate=0.1, max_depth=5, min_child_weight=5, n_estimators=100, )"
   ]
  },
  {
   "cell_type": "code",
   "execution_count": 302,
   "id": "e53c0034",
   "metadata": {
    "ExecuteTime": {
     "end_time": "2023-11-07T18:37:23.337857Z",
     "start_time": "2023-11-07T18:37:23.321684Z"
    }
   },
   "outputs": [],
   "source": [
    "df = pd.read_csv(\"titanic_read.csv\")\n",
    "df.drop(columns=[\"Unnamed: 0\"],inplace= True)\n"
   ]
  },
  {
   "cell_type": "code",
   "execution_count": 303,
   "id": "a073edca",
   "metadata": {
    "ExecuteTime": {
     "end_time": "2023-11-07T18:38:31.283077Z",
     "start_time": "2023-11-07T18:38:31.270892Z"
    }
   },
   "outputs": [],
   "source": [
    "X = df.iloc[:,:-1]\n",
    "y = df.iloc[:,-1]\n",
    "X_train,X_test,y_train,y_test = train_test_split(X,y,test_size=0.2,random_state=42)"
   ]
  },
  {
   "cell_type": "code",
   "execution_count": 304,
   "id": "519f9010",
   "metadata": {
    "ExecuteTime": {
     "end_time": "2023-11-07T18:38:38.033309Z",
     "start_time": "2023-11-07T18:38:38.021603Z"
    }
   },
   "outputs": [],
   "source": [
    "from sklearn.pipeline import make_pipeline,Pipeline"
   ]
  },
  {
   "cell_type": "code",
   "execution_count": 305,
   "id": "fa13d31a",
   "metadata": {
    "ExecuteTime": {
     "end_time": "2023-11-07T18:38:38.499293Z",
     "start_time": "2023-11-07T18:38:38.485040Z"
    }
   },
   "outputs": [],
   "source": [
    "pipe = make_pipeline(transformers,transformers_1)"
   ]
  },
  {
   "cell_type": "code",
   "execution_count": 306,
   "id": "c288458b",
   "metadata": {
    "ExecuteTime": {
     "end_time": "2023-11-07T18:38:39.321770Z",
     "start_time": "2023-11-07T18:38:39.090746Z"
    }
   },
   "outputs": [
    {
     "data": {
      "text/html": [
       "<style>#sk-6302e485-36a2-460b-bab6-d8142e02a137 {color: black;background-color: white;}#sk-6302e485-36a2-460b-bab6-d8142e02a137 pre{padding: 0;}#sk-6302e485-36a2-460b-bab6-d8142e02a137 div.sk-toggleable {background-color: white;}#sk-6302e485-36a2-460b-bab6-d8142e02a137 label.sk-toggleable__label {cursor: pointer;display: block;width: 100%;margin-bottom: 0;padding: 0.3em;box-sizing: border-box;text-align: center;}#sk-6302e485-36a2-460b-bab6-d8142e02a137 label.sk-toggleable__label-arrow:before {content: \"▸\";float: left;margin-right: 0.25em;color: #696969;}#sk-6302e485-36a2-460b-bab6-d8142e02a137 label.sk-toggleable__label-arrow:hover:before {color: black;}#sk-6302e485-36a2-460b-bab6-d8142e02a137 div.sk-estimator:hover label.sk-toggleable__label-arrow:before {color: black;}#sk-6302e485-36a2-460b-bab6-d8142e02a137 div.sk-toggleable__content {max-height: 0;max-width: 0;overflow: hidden;text-align: left;background-color: #f0f8ff;}#sk-6302e485-36a2-460b-bab6-d8142e02a137 div.sk-toggleable__content pre {margin: 0.2em;color: black;border-radius: 0.25em;background-color: #f0f8ff;}#sk-6302e485-36a2-460b-bab6-d8142e02a137 input.sk-toggleable__control:checked~div.sk-toggleable__content {max-height: 200px;max-width: 100%;overflow: auto;}#sk-6302e485-36a2-460b-bab6-d8142e02a137 input.sk-toggleable__control:checked~label.sk-toggleable__label-arrow:before {content: \"▾\";}#sk-6302e485-36a2-460b-bab6-d8142e02a137 div.sk-estimator input.sk-toggleable__control:checked~label.sk-toggleable__label {background-color: #d4ebff;}#sk-6302e485-36a2-460b-bab6-d8142e02a137 div.sk-label input.sk-toggleable__control:checked~label.sk-toggleable__label {background-color: #d4ebff;}#sk-6302e485-36a2-460b-bab6-d8142e02a137 input.sk-hidden--visually {border: 0;clip: rect(1px 1px 1px 1px);clip: rect(1px, 1px, 1px, 1px);height: 1px;margin: -1px;overflow: hidden;padding: 0;position: absolute;width: 1px;}#sk-6302e485-36a2-460b-bab6-d8142e02a137 div.sk-estimator {font-family: monospace;background-color: #f0f8ff;border: 1px dotted black;border-radius: 0.25em;box-sizing: border-box;margin-bottom: 0.5em;}#sk-6302e485-36a2-460b-bab6-d8142e02a137 div.sk-estimator:hover {background-color: #d4ebff;}#sk-6302e485-36a2-460b-bab6-d8142e02a137 div.sk-parallel-item::after {content: \"\";width: 100%;border-bottom: 1px solid gray;flex-grow: 1;}#sk-6302e485-36a2-460b-bab6-d8142e02a137 div.sk-label:hover label.sk-toggleable__label {background-color: #d4ebff;}#sk-6302e485-36a2-460b-bab6-d8142e02a137 div.sk-serial::before {content: \"\";position: absolute;border-left: 1px solid gray;box-sizing: border-box;top: 2em;bottom: 0;left: 50%;}#sk-6302e485-36a2-460b-bab6-d8142e02a137 div.sk-serial {display: flex;flex-direction: column;align-items: center;background-color: white;padding-right: 0.2em;padding-left: 0.2em;}#sk-6302e485-36a2-460b-bab6-d8142e02a137 div.sk-item {z-index: 1;}#sk-6302e485-36a2-460b-bab6-d8142e02a137 div.sk-parallel {display: flex;align-items: stretch;justify-content: center;background-color: white;}#sk-6302e485-36a2-460b-bab6-d8142e02a137 div.sk-parallel::before {content: \"\";position: absolute;border-left: 1px solid gray;box-sizing: border-box;top: 2em;bottom: 0;left: 50%;}#sk-6302e485-36a2-460b-bab6-d8142e02a137 div.sk-parallel-item {display: flex;flex-direction: column;position: relative;background-color: white;}#sk-6302e485-36a2-460b-bab6-d8142e02a137 div.sk-parallel-item:first-child::after {align-self: flex-end;width: 50%;}#sk-6302e485-36a2-460b-bab6-d8142e02a137 div.sk-parallel-item:last-child::after {align-self: flex-start;width: 50%;}#sk-6302e485-36a2-460b-bab6-d8142e02a137 div.sk-parallel-item:only-child::after {width: 0;}#sk-6302e485-36a2-460b-bab6-d8142e02a137 div.sk-dashed-wrapped {border: 1px dashed gray;margin: 0 0.4em 0.5em 0.4em;box-sizing: border-box;padding-bottom: 0.4em;background-color: white;position: relative;}#sk-6302e485-36a2-460b-bab6-d8142e02a137 div.sk-label label {font-family: monospace;font-weight: bold;background-color: white;display: inline-block;line-height: 1.2em;}#sk-6302e485-36a2-460b-bab6-d8142e02a137 div.sk-label-container {position: relative;z-index: 2;text-align: center;}#sk-6302e485-36a2-460b-bab6-d8142e02a137 div.sk-container {/* jupyter's `normalize.less` sets `[hidden] { display: none; }` but bootstrap.min.css set `[hidden] { display: none !important; }` so we also need the `!important` here to be able to override the default hidden behavior on the sphinx rendered scikit-learn.org. See: https://github.com/scikit-learn/scikit-learn/issues/21755 */display: inline-block !important;position: relative;}#sk-6302e485-36a2-460b-bab6-d8142e02a137 div.sk-text-repr-fallback {display: none;}</style><div id=\"sk-6302e485-36a2-460b-bab6-d8142e02a137\" class=\"sk-top-container\"><div class=\"sk-text-repr-fallback\"><pre>Pipeline(steps=[(&#x27;columntransformer&#x27;,\n",
       "                 ColumnTransformer(remainder=&#x27;passthrough&#x27;,\n",
       "                                   transformers=[(&#x27;category&#x27;,\n",
       "                                                  OneHotEncoder(handle_unknown=&#x27;ignore&#x27;,\n",
       "                                                                sparse=False),\n",
       "                                                  [0, 1, 3, 4, 6, 7]),\n",
       "                                                 (&#x27;scale&#x27;, MinMaxScaler(),\n",
       "                                                  [2, 5, 8, 9, 10])])),\n",
       "                (&#x27;xgbclassifier&#x27;,\n",
       "                 XGBClassifier(base_score=None, booster=None, callbacks=None,\n",
       "                               colsample_bylevel=None, colsample_bynode=None,\n",
       "                               colsample_bytree=...\n",
       "                               feature_types=None, gamma=0, gpu_id=None,\n",
       "                               grow_policy=None, importance_type=None,\n",
       "                               interaction_constraints=None, learning_rate=0.1,\n",
       "                               max_bin=None, max_cat_threshold=None,\n",
       "                               max_cat_to_onehot=None, max_delta_step=None,\n",
       "                               max_depth=5, max_leaves=None, min_child_weight=5,\n",
       "                               missing=nan, monotone_constraints=None,\n",
       "                               n_estimators=100, n_jobs=None,\n",
       "                               num_parallel_tree=None, predictor=None,\n",
       "                               random_state=None, ...))])</pre><b>Please rerun this cell to show the HTML repr or trust the notebook.</b></div><div class=\"sk-container\" hidden><div class=\"sk-item sk-dashed-wrapped\"><div class=\"sk-label-container\"><div class=\"sk-label sk-toggleable\"><input class=\"sk-toggleable__control sk-hidden--visually\" id=\"21e70edd-d8ad-4fd6-9532-97a22a14ac1b\" type=\"checkbox\" ><label for=\"21e70edd-d8ad-4fd6-9532-97a22a14ac1b\" class=\"sk-toggleable__label sk-toggleable__label-arrow\">Pipeline</label><div class=\"sk-toggleable__content\"><pre>Pipeline(steps=[(&#x27;columntransformer&#x27;,\n",
       "                 ColumnTransformer(remainder=&#x27;passthrough&#x27;,\n",
       "                                   transformers=[(&#x27;category&#x27;,\n",
       "                                                  OneHotEncoder(handle_unknown=&#x27;ignore&#x27;,\n",
       "                                                                sparse=False),\n",
       "                                                  [0, 1, 3, 4, 6, 7]),\n",
       "                                                 (&#x27;scale&#x27;, MinMaxScaler(),\n",
       "                                                  [2, 5, 8, 9, 10])])),\n",
       "                (&#x27;xgbclassifier&#x27;,\n",
       "                 XGBClassifier(base_score=None, booster=None, callbacks=None,\n",
       "                               colsample_bylevel=None, colsample_bynode=None,\n",
       "                               colsample_bytree=...\n",
       "                               feature_types=None, gamma=0, gpu_id=None,\n",
       "                               grow_policy=None, importance_type=None,\n",
       "                               interaction_constraints=None, learning_rate=0.1,\n",
       "                               max_bin=None, max_cat_threshold=None,\n",
       "                               max_cat_to_onehot=None, max_delta_step=None,\n",
       "                               max_depth=5, max_leaves=None, min_child_weight=5,\n",
       "                               missing=nan, monotone_constraints=None,\n",
       "                               n_estimators=100, n_jobs=None,\n",
       "                               num_parallel_tree=None, predictor=None,\n",
       "                               random_state=None, ...))])</pre></div></div></div><div class=\"sk-serial\"><div class=\"sk-item sk-dashed-wrapped\"><div class=\"sk-label-container\"><div class=\"sk-label sk-toggleable\"><input class=\"sk-toggleable__control sk-hidden--visually\" id=\"9ef4c0ce-6297-4746-aa44-bc94b864b0f3\" type=\"checkbox\" ><label for=\"9ef4c0ce-6297-4746-aa44-bc94b864b0f3\" class=\"sk-toggleable__label sk-toggleable__label-arrow\">columntransformer: ColumnTransformer</label><div class=\"sk-toggleable__content\"><pre>ColumnTransformer(remainder=&#x27;passthrough&#x27;,\n",
       "                  transformers=[(&#x27;category&#x27;,\n",
       "                                 OneHotEncoder(handle_unknown=&#x27;ignore&#x27;,\n",
       "                                               sparse=False),\n",
       "                                 [0, 1, 3, 4, 6, 7]),\n",
       "                                (&#x27;scale&#x27;, MinMaxScaler(), [2, 5, 8, 9, 10])])</pre></div></div></div><div class=\"sk-parallel\"><div class=\"sk-parallel-item\"><div class=\"sk-item\"><div class=\"sk-label-container\"><div class=\"sk-label sk-toggleable\"><input class=\"sk-toggleable__control sk-hidden--visually\" id=\"ef178a32-4403-4b48-8a66-b9240eeed389\" type=\"checkbox\" ><label for=\"ef178a32-4403-4b48-8a66-b9240eeed389\" class=\"sk-toggleable__label sk-toggleable__label-arrow\">category</label><div class=\"sk-toggleable__content\"><pre>[0, 1, 3, 4, 6, 7]</pre></div></div></div><div class=\"sk-serial\"><div class=\"sk-item\"><div class=\"sk-estimator sk-toggleable\"><input class=\"sk-toggleable__control sk-hidden--visually\" id=\"20be09f0-9128-4fd6-80ca-b6b053ab7a99\" type=\"checkbox\" ><label for=\"20be09f0-9128-4fd6-80ca-b6b053ab7a99\" class=\"sk-toggleable__label sk-toggleable__label-arrow\">OneHotEncoder</label><div class=\"sk-toggleable__content\"><pre>OneHotEncoder(handle_unknown=&#x27;ignore&#x27;, sparse=False)</pre></div></div></div></div></div></div><div class=\"sk-parallel-item\"><div class=\"sk-item\"><div class=\"sk-label-container\"><div class=\"sk-label sk-toggleable\"><input class=\"sk-toggleable__control sk-hidden--visually\" id=\"bf16f28f-1b9c-434f-8d0f-364376ab8b4c\" type=\"checkbox\" ><label for=\"bf16f28f-1b9c-434f-8d0f-364376ab8b4c\" class=\"sk-toggleable__label sk-toggleable__label-arrow\">scale</label><div class=\"sk-toggleable__content\"><pre>[2, 5, 8, 9, 10]</pre></div></div></div><div class=\"sk-serial\"><div class=\"sk-item\"><div class=\"sk-estimator sk-toggleable\"><input class=\"sk-toggleable__control sk-hidden--visually\" id=\"c7ae77f0-cb9c-422e-8b6f-c697ea3847cf\" type=\"checkbox\" ><label for=\"c7ae77f0-cb9c-422e-8b6f-c697ea3847cf\" class=\"sk-toggleable__label sk-toggleable__label-arrow\">MinMaxScaler</label><div class=\"sk-toggleable__content\"><pre>MinMaxScaler()</pre></div></div></div></div></div></div><div class=\"sk-parallel-item\"><div class=\"sk-item\"><div class=\"sk-label-container\"><div class=\"sk-label sk-toggleable\"><input class=\"sk-toggleable__control sk-hidden--visually\" id=\"5ec1deae-a8b2-48b9-bb9c-4521c982256b\" type=\"checkbox\" ><label for=\"5ec1deae-a8b2-48b9-bb9c-4521c982256b\" class=\"sk-toggleable__label sk-toggleable__label-arrow\">remainder</label><div class=\"sk-toggleable__content\"><pre>[]</pre></div></div></div><div class=\"sk-serial\"><div class=\"sk-item\"><div class=\"sk-estimator sk-toggleable\"><input class=\"sk-toggleable__control sk-hidden--visually\" id=\"83aaced9-fa1e-489d-9a77-08d039f51d55\" type=\"checkbox\" ><label for=\"83aaced9-fa1e-489d-9a77-08d039f51d55\" class=\"sk-toggleable__label sk-toggleable__label-arrow\">passthrough</label><div class=\"sk-toggleable__content\"><pre>passthrough</pre></div></div></div></div></div></div></div></div><div class=\"sk-item\"><div class=\"sk-estimator sk-toggleable\"><input class=\"sk-toggleable__control sk-hidden--visually\" id=\"184a1e7a-09c9-4ab6-8a70-53c5bc7ec58a\" type=\"checkbox\" ><label for=\"184a1e7a-09c9-4ab6-8a70-53c5bc7ec58a\" class=\"sk-toggleable__label sk-toggleable__label-arrow\">XGBClassifier</label><div class=\"sk-toggleable__content\"><pre>XGBClassifier(base_score=None, booster=None, callbacks=None,\n",
       "              colsample_bylevel=None, colsample_bynode=None,\n",
       "              colsample_bytree=None, early_stopping_rounds=None,\n",
       "              enable_categorical=False, eval_metric=None, feature_types=None,\n",
       "              gamma=0, gpu_id=None, grow_policy=None, importance_type=None,\n",
       "              interaction_constraints=None, learning_rate=0.1, max_bin=None,\n",
       "              max_cat_threshold=None, max_cat_to_onehot=None,\n",
       "              max_delta_step=None, max_depth=5, max_leaves=None,\n",
       "              min_child_weight=5, missing=nan, monotone_constraints=None,\n",
       "              n_estimators=100, n_jobs=None, num_parallel_tree=None,\n",
       "              predictor=None, random_state=None, ...)</pre></div></div></div></div></div></div></div>"
      ],
      "text/plain": [
       "Pipeline(steps=[('columntransformer',\n",
       "                 ColumnTransformer(remainder='passthrough',\n",
       "                                   transformers=[('category',\n",
       "                                                  OneHotEncoder(handle_unknown='ignore',\n",
       "                                                                sparse=False),\n",
       "                                                  [0, 1, 3, 4, 6, 7]),\n",
       "                                                 ('scale', MinMaxScaler(),\n",
       "                                                  [2, 5, 8, 9, 10])])),\n",
       "                ('xgbclassifier',\n",
       "                 XGBClassifier(base_score=None, booster=None, callbacks=None,\n",
       "                               colsample_bylevel=None, colsample_bynode=None,\n",
       "                               colsample_bytree=...\n",
       "                               feature_types=None, gamma=0, gpu_id=None,\n",
       "                               grow_policy=None, importance_type=None,\n",
       "                               interaction_constraints=None, learning_rate=0.1,\n",
       "                               max_bin=None, max_cat_threshold=None,\n",
       "                               max_cat_to_onehot=None, max_delta_step=None,\n",
       "                               max_depth=5, max_leaves=None, min_child_weight=5,\n",
       "                               missing=nan, monotone_constraints=None,\n",
       "                               n_estimators=100, n_jobs=None,\n",
       "                               num_parallel_tree=None, predictor=None,\n",
       "                               random_state=None, ...))])"
      ]
     },
     "execution_count": 306,
     "metadata": {},
     "output_type": "execute_result"
    }
   ],
   "source": [
    "pipe.fit(X_train,y_train)"
   ]
  },
  {
   "cell_type": "code",
   "execution_count": 307,
   "id": "46c4f319",
   "metadata": {
    "ExecuteTime": {
     "end_time": "2023-11-07T18:39:01.224830Z",
     "start_time": "2023-11-07T18:39:01.193086Z"
    }
   },
   "outputs": [
    {
     "data": {
      "text/plain": [
       "array([0, 0, 0, 1, 1, 1, 1, 0, 1, 1, 1, 0, 0, 0, 0, 1, 1, 1, 0, 0, 0, 1,\n",
       "       0, 0, 0, 0, 0, 0, 0, 1, 0, 1, 1, 1, 0, 0, 0, 1, 1, 0, 0, 0, 0, 0,\n",
       "       0, 0, 0, 0, 0, 0, 1, 1, 0, 1, 0, 1, 0, 1, 1, 1, 0, 1, 1, 0, 0, 1,\n",
       "       0, 0, 0, 1, 1, 1, 1, 1, 0, 0, 1, 1, 1, 1, 0, 1, 1, 0, 0, 0, 1, 1,\n",
       "       0, 0, 1, 0, 0, 0, 0, 0, 0, 0, 1, 0, 0, 0, 1, 0, 0, 0, 1, 0, 0, 0,\n",
       "       1, 0, 1, 1, 0, 0, 0, 0, 1, 0, 0, 1, 1, 1, 0, 1, 1, 0, 0, 0, 1, 0,\n",
       "       0, 1, 0, 0, 1, 0, 0, 0, 0, 1, 0, 0, 0, 1, 0, 0, 1, 0, 0, 0, 0, 0,\n",
       "       0, 0, 0, 1, 1, 1, 0, 0, 0, 1, 0, 0, 0, 1, 0, 0, 0, 1, 1, 1, 0, 0,\n",
       "       0, 1, 1])"
      ]
     },
     "execution_count": 307,
     "metadata": {},
     "output_type": "execute_result"
    }
   ],
   "source": [
    "pipe.predict(X_test)"
   ]
  },
  {
   "cell_type": "code",
   "execution_count": 296,
   "id": "fd7befc4",
   "metadata": {
    "ExecuteTime": {
     "end_time": "2023-11-07T18:33:14.251147Z",
     "start_time": "2023-11-07T18:33:14.241120Z"
    }
   },
   "outputs": [],
   "source": [
    "from sklearn import set_config\n",
    "set_config(display='diagram')"
   ]
  },
  {
   "cell_type": "markdown",
   "id": "5cc41847",
   "metadata": {},
   "source": [
    "## Result and Prediction"
   ]
  },
  {
   "cell_type": "markdown",
   "id": "f95fbd48",
   "metadata": {},
   "source": [
    "Almost All Machine Learning Models Performs Well and Gives Accuracy Between 80 to 85% Which is Better for the Prediction"
   ]
  },
  {
   "cell_type": "markdown",
   "id": "f541f310",
   "metadata": {},
   "source": [
    "Accuracy of The Models as follows :\n",
    "\n",
    "Gradient Boosting Classifier : 83.98 %\n",
    "\n",
    "XGBoost classfier : 83.84 % \n",
    "\n",
    "Decision Tree Classifier : 82.72 %\n",
    "\n",
    "Random Forest Classifier : 83.43 %\n",
    "\n",
    "Support Vector Classifier : 83.14 %\n",
    "\n",
    "Voting Classifier : 83.00 %\n",
    "\n",
    "Logistic Regression   : 82.12 %\n",
    "\n",
    "K Neighbors Classifier : 77.38 %\n",
    "\n",
    "\n"
   ]
  },
  {
   "cell_type": "code",
   "execution_count": 1,
   "id": "bb4ccb07",
   "metadata": {
    "ExecuteTime": {
     "end_time": "2023-11-08T07:06:34.428393Z",
     "start_time": "2023-11-08T07:06:34.179157Z"
    }
   },
   "outputs": [
    {
     "ename": "NameError",
     "evalue": "name 'pipe' is not defined",
     "output_type": "error",
     "traceback": [
      "\u001b[1;31m---------------------------------------------------------------------------\u001b[0m",
      "\u001b[1;31mNameError\u001b[0m                                 Traceback (most recent call last)",
      "\u001b[1;32m~\\AppData\\Local\\Temp\\ipykernel_296\\4144157745.py\u001b[0m in \u001b[0;36m<module>\u001b[1;34m\u001b[0m\n\u001b[0;32m      1\u001b[0m \u001b[1;32mimport\u001b[0m \u001b[0mpickle\u001b[0m\u001b[1;33m\u001b[0m\u001b[1;33m\u001b[0m\u001b[0m\n\u001b[1;32m----> 2\u001b[1;33m \u001b[0mpickle\u001b[0m\u001b[1;33m.\u001b[0m\u001b[0mdump\u001b[0m\u001b[1;33m(\u001b[0m\u001b[0mpipe\u001b[0m\u001b[1;33m,\u001b[0m \u001b[0mopen\u001b[0m\u001b[1;33m(\u001b[0m\u001b[1;34m'pipe.pkl'\u001b[0m\u001b[1;33m,\u001b[0m\u001b[1;34m'wb'\u001b[0m\u001b[1;33m)\u001b[0m\u001b[1;33m)\u001b[0m\u001b[1;33m\u001b[0m\u001b[1;33m\u001b[0m\u001b[0m\n\u001b[0m",
      "\u001b[1;31mNameError\u001b[0m: name 'pipe' is not defined"
     ]
    }
   ],
   "source": [
    "import pickle\n",
    "pickle.dump(pipe, open('pipe.pkl','wb'))"
   ]
  },
  {
   "cell_type": "markdown",
   "id": "6174e8f0",
   "metadata": {},
   "source": [
    "### prediction and result"
   ]
  },
  {
   "cell_type": "code",
   "execution_count": 2,
   "id": "cd49598b",
   "metadata": {
    "ExecuteTime": {
     "end_time": "2023-11-08T07:08:23.828669Z",
     "start_time": "2023-11-08T07:08:20.295033Z"
    }
   },
   "outputs": [],
   "source": [
    "pipe = pickle.load(open(\"pipe.pkl\",\"rb\"))"
   ]
  },
  {
   "cell_type": "code",
   "execution_count": 15,
   "id": "ea977608",
   "metadata": {
    "ExecuteTime": {
     "end_time": "2023-11-08T07:16:14.653475Z",
     "start_time": "2023-11-08T07:16:14.617421Z"
    },
    "code_folding": [
     33,
     94,
     106,
     117
    ]
   },
   "outputs": [],
   "source": [
    "class prediction:\n",
    "    \n",
    "    def __init__(self):\n",
    "        \n",
    "\n",
    "\n",
    "        self.class_       = None\n",
    "        self.sex          = None\n",
    "        self.age          = None\n",
    "        self.who          = None\n",
    "        self.adult_male   = None\n",
    "        self.fare         = None\n",
    "        self.embark_town  = None\n",
    "        self.alone        = None\n",
    "        self.sibsp        = None\n",
    "        self.parch        = None\n",
    "        self.person_total = None\n",
    "        self.survived     = None\n",
    "        self.passenger_array = None\n",
    "\n",
    "        self.classes()        \n",
    "        self.who_()\n",
    "        self.sex_()\n",
    "        self.age_()\n",
    "        self.adult_male_()\n",
    "        self.fare_()\n",
    "        self.embark_town_()\n",
    "        self.alone_()\n",
    "        self.sibsp_()\n",
    "        self.parch_()\n",
    "        self.person_total_()\n",
    "        self.test_aray()\n",
    "        \n",
    "    def classes(self):\n",
    "        while True: \n",
    "            class_ = int(input(\"Press 1 for 1st class , 2 for 2nd class ,3 for 3rd class  : \"))\n",
    "            if class_ == 1:\n",
    "                self.class_ = \"First\"\n",
    "                break\n",
    "            elif class_ == 2:\n",
    "                self.class_ = \"Second\"\n",
    "                break\n",
    "            elif class_ == 3:\n",
    "                self.class_ = \"Third\"\n",
    "                break\n",
    "            else:\n",
    "                print(\"Choose Approprite Class either 1st, 2nd or 3rd class\")\n",
    "        \n",
    "    def sex_(self):\n",
    "        if self.who == \"child\":\n",
    "            while True:\n",
    "                sex = int(input(\"Press 1 for male , 2 for female : \"))\n",
    "                if sex == 1:\n",
    "                    self.sex = \"male\"\n",
    "                    break\n",
    "                elif sex == 2:\n",
    "                    self.sex = \"female\"\n",
    "                    break\n",
    "                else:\n",
    "                    print(\"Choose Approprite sex either male or female\")\n",
    "        else:\n",
    "            pass\n",
    "      \n",
    "    def age_(self):\n",
    "        while True:\n",
    "            age = int(input(\"Age Of The Passenger : \"))\n",
    "            if age <= 0:\n",
    "                print(\"Describe Valid Positive Integer\")\n",
    "            elif age >=100:\n",
    "                print(\"Describe Valid Age\")\n",
    "            elif age<=100:\n",
    "                self.age = age\n",
    "                break\n",
    "            else:\n",
    "                print(\"This is not a valid age\")\n",
    "\n",
    "                \n",
    "    def who_(self):\n",
    "        while True:\n",
    "            who = int(input(\"Who is the passenger select 1 for Man, 2 for woman and 3 for child : \"))\n",
    "            if who == 1:\n",
    "                self.who = \"man\"\n",
    "                self.sex = \"male\"\n",
    "                break\n",
    "            elif who == 2:\n",
    "                self.who = \"woman\"\n",
    "                self.sex = \"female\"\n",
    "                break\n",
    "            elif who == 3:\n",
    "                self.who = \"child\"\n",
    "                break\n",
    "            else:\n",
    "                print(\"Choose options either man,woman, or child\")\n",
    "                \n",
    "    def adult_male_(self):\n",
    "        while True:\n",
    "            adult_male_or_not = int(input(\"Adult male or not ,1 for Yes or 0 for No : \"))\n",
    "            if adult_male_or_not == 1:\n",
    "                self.adult_male = True\n",
    "                break\n",
    "            elif adult_male_or_not == 0:\n",
    "                self.adult_male = False\n",
    "                break\n",
    "            else :\n",
    "                print(\"choose appropriate option yes or no\")\n",
    "\n",
    "    def fare_(self):\n",
    "        while True:\n",
    "            fare = float(input(\"Fare Price Ticket price : \"))\n",
    "            if fare <=0:\n",
    "                print(\"Ticket price Should be positive\")\n",
    "            elif fare <=600:\n",
    "                self.fare = fare\n",
    "                break\n",
    "            else:\n",
    "                print(\"Give Right Ticket Price\")\n",
    "    \n",
    "    def embark_town_(self):\n",
    "        while True:\n",
    "            embark_town = int(input(\"1 : Southmpton , 2 : Cherbourg, 3: Queenstown\"))\n",
    "            if embark_town == 1:\n",
    "                self.embark_town =  \"Southmpton\"\n",
    "                break\n",
    "            elif embark_town == 2:\n",
    "                self.embark_town = \"Cherbourg\"\n",
    "                break\n",
    "            elif embark_town == 3:\n",
    "                self.embark_town = \"Queenstown\"\n",
    "                break\n",
    "            else:\n",
    "                print(\"Choose from only Southmpton, Cherbourg or Queenstown\")\n",
    "    \n",
    "    def alone_(self):        \n",
    "        while True:\n",
    "            alone = int(input(\"Alone or not 1 for alone and not alone 0 : \",))\n",
    "            if alone == 1:\n",
    "                self.alone = True\n",
    "                break\n",
    "            elif alone == 0:\n",
    "                self.alone = False \n",
    "                break\n",
    "            else:\n",
    "                print(\"Choose Either alone or not_alone\")      \n",
    "    def sibsp_(self):\n",
    "        if self.alone == 0:            \n",
    "            while True:\n",
    "                sibsp = int(input(\"sibling spouse travels on ship : \"))\n",
    "                if sibsp < 0:\n",
    "                    print(\"The value Should be positive\")\n",
    "                elif sibsp <= 10:\n",
    "                    self.sibsp = sibsp\n",
    "                    break\n",
    "                else:\n",
    "                    print(\"Input The Valid value\")\n",
    "        else:\n",
    "            self.sibsp = 0\n",
    "    \n",
    "    def parch_(self):\n",
    "        if self.alone == 0:\n",
    "            while True:\n",
    "                parch = int(input(\"No of Children or Parents : \"))\n",
    "                if parch < 0:\n",
    "                    print(\"Input Positive Interger value\")\n",
    "                    break\n",
    "                elif parch <=10:\n",
    "                    self.parch = parch\n",
    "                    break\n",
    "            \n",
    "                else:\n",
    "                    print(\"Input valid Integer value\")\n",
    "        else:\n",
    "            self.parch = 0 \n",
    "                \n",
    "                \n",
    "    def person_total_(self):\n",
    "        if self.alone == 0:\n",
    "            person_total = self.sibsp + self.parch + 1\n",
    "            self.person_total = person_total\n",
    "        else:\n",
    "            self.person_total = 1\n",
    "                \n",
    "    def details_(self):\n",
    "        print(\"class of Passenger  : \",self.class_)\n",
    "        print(\"sex of the Passenger: \",self.sex   )\n",
    "        print(\"age of the Passenger: \",self.age   )\n",
    "        print(\"who is passenger    : \",self.who   )\n",
    "        print(\"Adult Male or Not   : \",self.adult_male)\n",
    "        print(\"fare price          : \",self.fare  )\n",
    "        print(\"Embarked town       : \",self.embark_town )\n",
    "        print(\"Alone or not        : \",self.alone )\n",
    "        print(\"sibling or spouse   : \",self.sibsp )\n",
    "        print(\"parnt childrens with passenger : \",self.parch)\n",
    "        print(\"total persons with  : \",self.person_total )\n",
    "     \n",
    "    def test_aray(self):\n",
    "        passenger =np.array([self.class_,self.sex,self.age,self.who,\n",
    "                     self.adult_male,self.fare,self.embark_town,self.alone,\n",
    "                     self.sibsp,self.parch,self.person_total],dtype = object).reshape(1,11)\n",
    "        self.passenger_array = passenger\n",
    "    def alive(self):\n",
    "        survived = pipe.predict(self.passenger_array)\n",
    "        if survived[0] == 0:\n",
    "            print(\"predicted label value\",survived[0])\n",
    "            print(\"Passenger Not Survived\")\n",
    "            self.survived = survived\n",
    "            \n",
    "        else:\n",
    "            print(\"predicted label value\",survived[0])\n",
    "            print(\"Passenger is alive\")\n"
   ]
  },
  {
   "cell_type": "code",
   "execution_count": 16,
   "id": "5b1f7369",
   "metadata": {
    "ExecuteTime": {
     "end_time": "2023-11-08T07:16:26.013615Z",
     "start_time": "2023-11-08T07:16:15.115530Z"
    }
   },
   "outputs": [
    {
     "name": "stdout",
     "output_type": "stream",
     "text": [
      "Press 1 for 1st class , 2 for 2nd class ,3 for 3rd class  : 1\n",
      "Who is the passenger select 1 for Man, 2 for woman and 3 for child : 1\n",
      "Age Of The Passenger : 30\n",
      "Adult male or not ,1 for Yes or 0 for No : 1\n",
      "Fare Price Ticket price : 400\n",
      "1 : Southmpton , 2 : Cherbourg, 3: Queenstown1\n",
      "Alone or not 1 for alone and not alone 0 : 1\n"
     ]
    }
   ],
   "source": [
    "passenger1 = prediction()"
   ]
  },
  {
   "cell_type": "code",
   "execution_count": 17,
   "id": "5efe8b15",
   "metadata": {
    "ExecuteTime": {
     "end_time": "2023-11-08T07:16:28.725751Z",
     "start_time": "2023-11-08T07:16:28.720813Z"
    }
   },
   "outputs": [
    {
     "name": "stdout",
     "output_type": "stream",
     "text": [
      "class of Passenger  :  First\n",
      "sex of the Passenger:  male\n",
      "age of the Passenger:  30\n",
      "who is passenger    :  man\n",
      "Adult Male or Not   :  True\n",
      "fare price          :  400.0\n",
      "Embarked town       :  Southmpton\n",
      "Alone or not        :  True\n",
      "sibling or spouse   :  0\n",
      "parnt childrens with passenger :  0\n",
      "total persons with  :  1\n"
     ]
    }
   ],
   "source": [
    "passenger1.details_()"
   ]
  },
  {
   "cell_type": "code",
   "execution_count": 18,
   "id": "46494da3",
   "metadata": {
    "ExecuteTime": {
     "end_time": "2023-11-08T07:16:32.271740Z",
     "start_time": "2023-11-08T07:16:32.262005Z"
    }
   },
   "outputs": [
    {
     "name": "stdout",
     "output_type": "stream",
     "text": [
      "predicted label value 0\n",
      "Passenger Not Survived\n"
     ]
    },
    {
     "name": "stderr",
     "output_type": "stream",
     "text": [
      "C:\\Users\\Tushar\\anaconda3\\lib\\site-packages\\sklearn\\base.py:450: UserWarning: X does not have valid feature names, but OneHotEncoder was fitted with feature names\n",
      "  warnings.warn(\n",
      "C:\\Users\\Tushar\\anaconda3\\lib\\site-packages\\sklearn\\base.py:450: UserWarning: X does not have valid feature names, but MinMaxScaler was fitted with feature names\n",
      "  warnings.warn(\n"
     ]
    }
   ],
   "source": [
    "passenger1.alive()"
   ]
  },
  {
   "cell_type": "code",
   "execution_count": null,
   "id": "0f70783d",
   "metadata": {},
   "outputs": [],
   "source": []
  }
 ],
 "metadata": {
  "hide_input": false,
  "kernelspec": {
   "display_name": "Python 3 (ipykernel)",
   "language": "python",
   "name": "python3"
  },
  "language_info": {
   "codemirror_mode": {
    "name": "ipython",
    "version": 3
   },
   "file_extension": ".py",
   "mimetype": "text/x-python",
   "name": "python",
   "nbconvert_exporter": "python",
   "pygments_lexer": "ipython3",
   "version": "3.9.13"
  },
  "toc": {
   "base_numbering": 1,
   "nav_menu": {},
   "number_sections": true,
   "sideBar": true,
   "skip_h1_title": false,
   "title_cell": "Table of Contents",
   "title_sidebar": "Contents",
   "toc_cell": false,
   "toc_position": {
    "height": "calc(100% - 180px)",
    "left": "10px",
    "top": "150px",
    "width": "396.699px"
   },
   "toc_section_display": true,
   "toc_window_display": false
  },
  "varInspector": {
   "cols": {
    "lenName": 16,
    "lenType": 16,
    "lenVar": 40
   },
   "kernels_config": {
    "python": {
     "delete_cmd_postfix": "",
     "delete_cmd_prefix": "del ",
     "library": "var_list.py",
     "varRefreshCmd": "print(var_dic_list())"
    },
    "r": {
     "delete_cmd_postfix": ") ",
     "delete_cmd_prefix": "rm(",
     "library": "var_list.r",
     "varRefreshCmd": "cat(var_dic_list()) "
    }
   },
   "types_to_exclude": [
    "module",
    "function",
    "builtin_function_or_method",
    "instance",
    "_Feature"
   ],
   "window_display": false
  }
 },
 "nbformat": 4,
 "nbformat_minor": 5
}
